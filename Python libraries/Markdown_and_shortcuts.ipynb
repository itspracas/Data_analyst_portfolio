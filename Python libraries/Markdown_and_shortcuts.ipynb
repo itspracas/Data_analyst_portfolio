{
 "cells": [
  {
   "cell_type": "markdown",
   "id": "5bee7bad-0d67-4007-86aa-2b406e6fa676",
   "metadata": {},
   "source": [
    "# Function: Hello \n",
    "This is a great function which i use in many courses to indicate how python does all sort of things.\n",
    "for example, this function can be used\"\n",
    "1. At parties\n",
    "   1. Birthday parties\n",
    "   2. Graduation parties\n",
    "2. At weddings\n",
    "3. at dancing festivals\n",
    "\n",
    "Bullets? we can do that:\n",
    "- At parties\n",
    "    - Birthday parties\n",
    "    - Graduation parties\n",
    "- At weddings\n",
    "- at dancing festivals\n",
    "* can use * too for bullet points"
   ]
  },
  {
   "cell_type": "markdown",
   "id": "65d59d4b-c72b-4334-a614-de93c0ca7fb6",
   "metadata": {},
   "source": [
    "# Exercise: Try this:\n",
    "1. write a function\n",
    "2. get the output from the function\n",
    "3. print the output on the screen\n",
    "\n",
    "\n",
    "Example:\n",
    "```python\n",
    "x=f(y)  \n",
    "print(x)\n",
    "```"
   ]
  },
  {
   "cell_type": "code",
   "execution_count": 1,
   "id": "a92ca5b6-dfa6-405d-bde6-4bcb6c474e88",
   "metadata": {},
   "outputs": [
    {
     "data": {
      "text/plain": [
       "'Hello, world'"
      ]
     },
     "execution_count": 1,
     "metadata": {},
     "output_type": "execute_result"
    }
   ],
   "source": [
    "def hello(name):\n",
    "    return f'Hello, {name}'\n",
    "hello('world')"
   ]
  },
  {
   "cell_type": "markdown",
   "id": "13577ef4-458b-4cde-8e8a-6a8718e48559",
   "metadata": {},
   "source": [
    "# This is a h1 Header\n",
    "## This is h2 header\n",
    "### This is h3 header\n",
    "#### this is h4 header\n",
    "##### this is h5 header\n",
    "###### this is h6 header\n"
   ]
  },
  {
   "cell_type": "markdown",
   "id": "cb9c0317-d44e-446f-b40b-b155d1485fd6",
   "metadata": {},
   "source": [
    "This is a *Italic*\n",
    "\n",
    "This is **Bold**\n",
    "\n",
    "This is **_Bold and Italic_**"
   ]
  },
  {
   "cell_type": "markdown",
   "id": "13277159-84a8-4b5d-bcf5-34c75acf73ac",
   "metadata": {},
   "source": [
    "# Soft break\n",
    "2 space after **eachline**,  \n",
    "`Two households`,both alike in dignity,  \n",
    "in fair berona, where we lay our scene,  \n",
    "where civil blood hands unclean"
   ]
  },
  {
   "cell_type": "markdown",
   "id": "032e4b26-22f1-46e4-a81d-9ce049287587",
   "metadata": {},
   "source": [
    "# Block Quotes\n",
    "> Two households,both alike in dignity,\r\n",
    "in fair berona, where we lay our scene,\r\n",
    "where civil blood hands unclean"
   ]
  },
  {
   "cell_type": "markdown",
   "id": "b55eb6cf-aaf3-481a-8161-dcb1f8a58b09",
   "metadata": {},
   "source": [
    "# Here are some links!\n",
    "I like [python](https://python.org). it is a great language\n",
    "\n",
    "![python_logo](https://freepngimg.com/thumb/python_logo/5-2-python-logo-png-image-thumb.png)"
   ]
  },
  {
   "cell_type": "markdown",
   "id": "cfcbd96f-fa25-427e-a9d0-1a3802de6bd5",
   "metadata": {},
   "source": [
    "## `ESC + M for converting from cell to markdown`\n",
    "## `ESC + Y for converting from markdown to cell`"
   ]
  },
  {
   "cell_type": "markdown",
   "id": "8d0e1c3d-fdc6-4ca9-8339-214e3f170cad",
   "metadata": {},
   "source": [
    "# SHORTCUTS"
   ]
  },
  {
   "cell_type": "markdown",
   "id": "67241c33-97ed-4c16-9b0f-963c621e2473",
   "metadata": {},
   "source": [
    "## Add Cell  \n",
    "`Press ESC` to switch cell into command mode  \n",
    "`press a:` insert cell above  \n",
    "`press b:` insert cell below  "
   ]
  },
  {
   "cell_type": "markdown",
   "id": "831a89d3-2195-4ae4-96f6-25338bf4662a",
   "metadata": {},
   "source": [
    "# Run Cell\n",
    "\n",
    "Press Ctrl+Enter: Run selected cells  \n",
    "Press Shift+Enter: Run cell, select below  \n",
    "press Alt + Enter: Run cell, and insert a cell below"
   ]
  },
  {
   "cell_type": "markdown",
   "id": "807b0125-e4cb-444a-9b59-f8b54c663fa6",
   "metadata": {},
   "source": [
    "# Run All Cell \n",
    "1. Press ESC: Enter into command mode\r\n",
    "2. Press Ctrl+A: Select all cells\r\n",
    "3. Press Ctrl+Enter: Run selected cells"
   ]
  },
  {
   "attachments": {},
   "cell_type": "markdown",
   "id": "8142384e-a798-49c8-92d3-3ac20d25642a",
   "metadata": {},
   "source": [
    "# some other shortcuts\n",
    "ESC - `switch to command mode then:`  \n",
    "x - Cut cell  \n",
    "c - copy cell  \n",
    "v - paste cell below  \n",
    "shift+m merge selected cells/ if only one selected then merge with below cell"
   ]
  },
  {
   "cell_type": "code",
   "execution_count": null,
   "id": "7ca25f4a-bd0b-4f0e-8998-d231bc54b16e",
   "metadata": {},
   "outputs": [],
   "source": []
  }
 ],
 "metadata": {
  "kernelspec": {
   "display_name": "Python 3 (ipykernel)",
   "language": "python",
   "name": "python3"
  },
  "language_info": {
   "codemirror_mode": {
    "name": "ipython",
    "version": 3
   },
   "file_extension": ".py",
   "mimetype": "text/x-python",
   "name": "python",
   "nbconvert_exporter": "python",
   "pygments_lexer": "ipython3",
   "version": "3.11.5"
  }
 },
 "nbformat": 4,
 "nbformat_minor": 5
}
