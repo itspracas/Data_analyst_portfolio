{
 "cells": [
  {
   "cell_type": "code",
   "execution_count": 46,
   "id": "19dafa88-9834-4cdd-becc-87e7531e7a34",
   "metadata": {},
   "outputs": [],
   "source": [
    "import numpy as np\n",
    "import pandas as pd"
   ]
  },
  {
   "cell_type": "code",
   "execution_count": 47,
   "id": "2575e5a2-7d8b-4ba0-a392-3e3e4461f461",
   "metadata": {},
   "outputs": [
    {
     "data": {
      "text/plain": [
       "array([[ 1,  2,  3,  4],\n",
       "       [ 5,  6,  7,  8],\n",
       "       [ 9, 10, 11, 12]])"
      ]
     },
     "execution_count": 47,
     "metadata": {},
     "output_type": "execute_result"
    }
   ],
   "source": [
    "z = np.array([[1, 2, 3, 4],\n",
    "         [5, 6, 7, 8],\n",
    "         [9, 10, 11, 12]])\n",
    "z"
   ]
  },
  {
   "cell_type": "code",
   "execution_count": 48,
   "id": "7bdeb872-50c0-4eae-adb0-98106d8ef6cd",
   "metadata": {},
   "outputs": [
    {
     "data": {
      "text/html": [
       "<div>\n",
       "<style scoped>\n",
       "    .dataframe tbody tr th:only-of-type {\n",
       "        vertical-align: middle;\n",
       "    }\n",
       "\n",
       "    .dataframe tbody tr th {\n",
       "        vertical-align: top;\n",
       "    }\n",
       "\n",
       "    .dataframe thead th {\n",
       "        text-align: right;\n",
       "    }\n",
       "</style>\n",
       "<table border=\"1\" class=\"dataframe\">\n",
       "  <thead>\n",
       "    <tr style=\"text-align: right;\">\n",
       "      <th></th>\n",
       "      <th>Unnamed: 0</th>\n",
       "      <th>Age group</th>\n",
       "      <th>IFR</th>\n",
       "    </tr>\n",
       "  </thead>\n",
       "  <tbody>\n",
       "    <tr>\n",
       "      <th>0</th>\n",
       "      <td>1</td>\n",
       "      <td>0–34</td>\n",
       "      <td>0.004%</td>\n",
       "    </tr>\n",
       "    <tr>\n",
       "      <th>1</th>\n",
       "      <td>2</td>\n",
       "      <td>35–44</td>\n",
       "      <td>0.068%</td>\n",
       "    </tr>\n",
       "    <tr>\n",
       "      <th>2</th>\n",
       "      <td>3</td>\n",
       "      <td>45–54</td>\n",
       "      <td>0.23%</td>\n",
       "    </tr>\n",
       "    <tr>\n",
       "      <th>3</th>\n",
       "      <td>4</td>\n",
       "      <td>55–64</td>\n",
       "      <td>0.75%</td>\n",
       "    </tr>\n",
       "    <tr>\n",
       "      <th>4</th>\n",
       "      <td>5</td>\n",
       "      <td>65–74</td>\n",
       "      <td>2.5%</td>\n",
       "    </tr>\n",
       "    <tr>\n",
       "      <th>5</th>\n",
       "      <td>6</td>\n",
       "      <td>75–84</td>\n",
       "      <td>8.5%</td>\n",
       "    </tr>\n",
       "    <tr>\n",
       "      <th>6</th>\n",
       "      <td>7</td>\n",
       "      <td>85 +</td>\n",
       "      <td>28.3%</td>\n",
       "    </tr>\n",
       "  </tbody>\n",
       "</table>\n",
       "</div>"
      ],
      "text/plain": [
       "   Unnamed: 0 Age group     IFR\n",
       "0           1      0–34  0.004%\n",
       "1           2     35–44  0.068%\n",
       "2           3     45–54   0.23%\n",
       "3           4     55–64   0.75%\n",
       "4           5     65–74    2.5%\n",
       "5           6     75–84    8.5%\n",
       "6           7      85 +   28.3%"
      ]
     },
     "execution_count": 48,
     "metadata": {},
     "output_type": "execute_result"
    }
   ],
   "source": [
    "df=pd.read_csv('web scraped table.csv')\n",
    "df"
   ]
  },
  {
   "cell_type": "code",
   "execution_count": 49,
   "id": "66727f39-3d5c-4c96-8b76-25457ca0dd24",
   "metadata": {},
   "outputs": [
    {
     "data": {
      "text/plain": [
       "array([ 1,  2,  3,  4,  5,  6,  7,  8,  9, 10, 11, 12])"
      ]
     },
     "execution_count": 49,
     "metadata": {},
     "output_type": "execute_result"
    }
   ],
   "source": [
    "z.reshape(-1)"
   ]
  },
  {
   "cell_type": "code",
   "execution_count": 50,
   "id": "01903f4e-8c77-4904-9896-2cd4566e2faa",
   "metadata": {},
   "outputs": [
    {
     "data": {
      "text/plain": [
       "array([[ 1],\n",
       "       [ 2],\n",
       "       [ 3],\n",
       "       [ 4],\n",
       "       [ 5],\n",
       "       [ 6],\n",
       "       [ 7],\n",
       "       [ 8],\n",
       "       [ 9],\n",
       "       [10],\n",
       "       [11],\n",
       "       [12]])"
      ]
     },
     "execution_count": 50,
     "metadata": {},
     "output_type": "execute_result"
    }
   ],
   "source": [
    "z.reshape(-1,1)"
   ]
  },
  {
   "cell_type": "code",
   "execution_count": 51,
   "id": "0f77f993-4717-4ac5-a997-1c403e09ba7c",
   "metadata": {},
   "outputs": [
    {
     "data": {
      "text/plain": [
       "array([0, 1, 2, 3, 4, 5, 6, 7, 8, 9])"
      ]
     },
     "execution_count": 51,
     "metadata": {},
     "output_type": "execute_result"
    }
   ],
   "source": [
    "ar1=np.arange(10)\n",
    "ar1"
   ]
  },
  {
   "cell_type": "code",
   "execution_count": 52,
   "id": "5a2d5cea-8beb-42a9-9173-723ad0010e33",
   "metadata": {},
   "outputs": [
    {
     "data": {
      "text/plain": [
       "array([0, 1, 2, 3, 4, 5, 6, 7, 8, 9])"
      ]
     },
     "execution_count": 52,
     "metadata": {},
     "output_type": "execute_result"
    }
   ],
   "source": [
    "ar1=np.arange(0,10)\n",
    "ar1"
   ]
  },
  {
   "cell_type": "code",
   "execution_count": 53,
   "id": "1291278d-f9d8-4f97-8786-aa83931fe55a",
   "metadata": {},
   "outputs": [
    {
     "data": {
      "text/plain": [
       "array([0, 2, 4, 6, 8])"
      ]
     },
     "execution_count": 53,
     "metadata": {},
     "output_type": "execute_result"
    }
   ],
   "source": [
    "ar1=np.arange(0,10,2)\n",
    "ar1"
   ]
  },
  {
   "cell_type": "code",
   "execution_count": null,
   "id": "92008e1e-3293-480b-99b5-57cefe489789",
   "metadata": {},
   "outputs": [],
   "source": []
  },
  {
   "cell_type": "code",
   "execution_count": 54,
   "id": "5e00bbce-bd71-48a1-9923-6b10c71cd901",
   "metadata": {},
   "outputs": [
    {
     "data": {
      "text/plain": [
       "array([0., 0., 0., 0., 0.])"
      ]
     },
     "execution_count": 54,
     "metadata": {},
     "output_type": "execute_result"
    }
   ],
   "source": [
    "ar1=np.zeros(5)\n",
    "ar1"
   ]
  },
  {
   "cell_type": "code",
   "execution_count": 57,
   "id": "65807b6b-91f5-48f0-a29e-ef1d3184f227",
   "metadata": {},
   "outputs": [
    {
     "data": {
      "text/plain": [
       "array([[0., 0., 0., 0., 0.],\n",
       "       [0., 0., 0., 0., 0.]])"
      ]
     },
     "execution_count": 57,
     "metadata": {},
     "output_type": "execute_result"
    }
   ],
   "source": [
    "ar1=np.zeros((2,5))\n",
    "ar1"
   ]
  },
  {
   "cell_type": "code",
   "execution_count": 60,
   "id": "b720cebe-b139-4ca5-9fa0-1c94e53fb084",
   "metadata": {},
   "outputs": [
    {
     "data": {
      "text/plain": [
       "array([7, 7, 7, 7, 7])"
      ]
     },
     "execution_count": 60,
     "metadata": {},
     "output_type": "execute_result"
    }
   ],
   "source": [
    "ar1=np.full((5),7)\n",
    "ar1"
   ]
  },
  {
   "cell_type": "code",
   "execution_count": 61,
   "id": "96043a48-f46a-4af3-8df6-6c6370cd8647",
   "metadata": {},
   "outputs": [
    {
     "data": {
      "text/plain": [
       "array([[7, 7, 7, 7, 7],\n",
       "       [7, 7, 7, 7, 7]])"
      ]
     },
     "execution_count": 61,
     "metadata": {},
     "output_type": "execute_result"
    }
   ],
   "source": [
    "np.full((2,5),7)"
   ]
  },
  {
   "cell_type": "code",
   "execution_count": 55,
   "id": "8fae3243-cf6b-4b83-9388-0313162f98a1",
   "metadata": {},
   "outputs": [
    {
     "data": {
      "text/plain": [
       "array([[1., 0.],\n",
       "       [0., 1.]])"
      ]
     },
     "execution_count": 55,
     "metadata": {},
     "output_type": "execute_result"
    }
   ],
   "source": [
    "ar1=np.eye(2,2)\n",
    "ar1"
   ]
  },
  {
   "cell_type": "markdown",
   "id": "23306864-afe3-474d-9908-5673c2a10dc1",
   "metadata": {},
   "source": [
    "## convert python list to numpy array"
   ]
  },
  {
   "cell_type": "code",
   "execution_count": 72,
   "id": "821bc7f2-9913-4818-afe7-40f0a0670373",
   "metadata": {},
   "outputs": [
    {
     "name": "stdout",
     "output_type": "stream",
     "text": [
      "[0, 1, 2, 3, 4, 5, 6]\n",
      "<class 'list'>\n",
      "[0 1 2 3 4 5 6]\n",
      "<class 'numpy.ndarray'>\n"
     ]
    }
   ],
   "source": [
    "list=[i for i in range(7)]\n",
    "print(list)\n",
    "print(type(list))\n",
    "ar1=np.array(list)\n",
    "print(ar1)\n",
    "print(type(ar1))"
   ]
  },
  {
   "cell_type": "markdown",
   "id": "cb83f341-1994-42eb-91ea-373fc6fef517",
   "metadata": {},
   "source": [
    "# Slicing numpy arrays"
   ]
  },
  {
   "cell_type": "code",
   "execution_count": 91,
   "id": "990dc189-54ed-4821-aa34-2a43223085e2",
   "metadata": {},
   "outputs": [
    {
     "data": {
      "text/plain": [
       "array([0, 1, 2, 3, 4, 5, 6, 7, 8, 9])"
      ]
     },
     "execution_count": 91,
     "metadata": {},
     "output_type": "execute_result"
    }
   ],
   "source": [
    "ar1=np.array([i for i in range(10)])\n",
    "ar1"
   ]
  },
  {
   "cell_type": "code",
   "execution_count": 94,
   "id": "716033ec-0d4b-46db-a293-c4ef548c94d1",
   "metadata": {},
   "outputs": [
    {
     "name": "stdout",
     "output_type": "stream",
     "text": [
      "ar1 array: [1 2 3 4]\n",
      "\n",
      "reshaped ar1 array: [[0 1 2 3 4]\n",
      " [5 6 7 8 9]]\n",
      "\n",
      "second column:[1 6]\n",
      "\n",
      "[1 3]\n"
     ]
    }
   ],
   "source": [
    "print('ar1 array:',ar1[1:5])\n",
    "print()\n",
    "ar2=ar1.reshape(2,5)\n",
    "print('reshaped ar1 array:',ar2)\n",
    "print()\n",
    "print(f'second column:{ar2[:,1]}')    # f string\n",
    "print()\n",
    "print(ar1[1:5:2])"
   ]
  },
  {
   "cell_type": "code",
   "execution_count": 110,
   "id": "9ee76b7c-7f46-4a2e-a73a-435ddd2ee9b8",
   "metadata": {},
   "outputs": [
    {
     "name": "stdout",
     "output_type": "stream",
     "text": [
      "[0 1 2 3 4 5 6 7 8 9]\n",
      "\n",
      "[0.         1.         1.41421356 1.73205081 2.         2.23606798\n",
      " 2.44948974 2.64575131 2.82842712 3.        ]\n",
      "\n",
      "[-5 -4 -3 -2 -1  0  1  2  3  4  5  6  7  8]\n",
      "\n",
      "[5 4 3 2 1 0 1 2 3 4 5 6 7 8]\n",
      "[1.00000000e+00 2.71828183e+00 7.38905610e+00 2.00855369e+01\n",
      " 5.45981500e+01 1.48413159e+02 4.03428793e+02 1.09663316e+03\n",
      " 2.98095799e+03 8.10308393e+03]\n",
      "\n"
     ]
    }
   ],
   "source": [
    "print(ar1)\n",
    "ar1_sqr=np.sqrt(ar1)\n",
    "print()\n",
    "print(ar1_sqr)\n",
    "print()\n",
    "print(np.arange(-5,9))\n",
    "print()\n",
    "print(np.absolute(np.arange(-5,9)))\n",
    "print(np.exp(ar1))\n",
    "print()"
   ]
  },
  {
   "cell_type": "markdown",
   "id": "0eb65dc8-565b-4a70-8b99-5c04b5d86e10",
   "metadata": {},
   "source": [
    "# Copy vs View numpy"
   ]
  },
  {
   "cell_type": "markdown",
   "id": "bada71c4-ed39-4289-bb98-b0043ef16b45",
   "metadata": {},
   "source": [
    "### both are copy of array but view is connected to the original"
   ]
  },
  {
   "cell_type": "code",
   "execution_count": 111,
   "id": "475df90e-9efc-450b-95f3-c8209695ef77",
   "metadata": {},
   "outputs": [
    {
     "data": {
      "text/plain": [
       "array([0, 1, 2, 3, 4, 5, 6, 7, 8, 9])"
      ]
     },
     "execution_count": 111,
     "metadata": {},
     "output_type": "execute_result"
    }
   ],
   "source": [
    "np1=np.array([i for i in range(10)])\n",
    "np1"
   ]
  },
  {
   "cell_type": "code",
   "execution_count": 113,
   "id": "c9f08709-7f20-4523-b5f4-4ff40692b979",
   "metadata": {},
   "outputs": [
    {
     "data": {
      "text/plain": [
       "array([0, 1, 2, 3, 4, 5, 6, 7, 8, 9])"
      ]
     },
     "execution_count": 113,
     "metadata": {},
     "output_type": "execute_result"
    }
   ],
   "source": [
    "np2=np1.view()\n",
    "np2"
   ]
  },
  {
   "cell_type": "code",
   "execution_count": 114,
   "id": "e4a6e596-8e1a-410b-a0fb-db70874b2739",
   "metadata": {},
   "outputs": [
    {
     "name": "stdout",
     "output_type": "stream",
     "text": [
      "[ 0 40  2  3  4  5  6  7  8  9]\n",
      "\n",
      "[ 0 40  2  3  4  5  6  7  8  9]\n"
     ]
    }
   ],
   "source": [
    "np2[1]=40\n",
    "print(np1)\n",
    "print()\n",
    "print(np2)"
   ]
  },
  {
   "cell_type": "code",
   "execution_count": 121,
   "id": "0b87e208-9a4d-4a8e-8a56-4272f98b47fd",
   "metadata": {},
   "outputs": [
    {
     "name": "stdout",
     "output_type": "stream",
     "text": [
      "original np1 [ 0 40  2  3  4  5  6  7  8  9]\n",
      "after making changes in np3\n",
      "original np1 [ 0 40  2  3  4  5  6  7  8  9]\n",
      "changed np3: [ 0 70  2  3  4  5  6  7  8  9]\n"
     ]
    }
   ],
   "source": [
    "np3=np1.copy()\n",
    "print(\"original np1\",np3)\n",
    "np3[1]=70\n",
    "print(\"after making changes in np3\")\n",
    "print(\"original np1\", np1)\n",
    "print(\"changed np3:\",np3)"
   ]
  },
  {
   "cell_type": "markdown",
   "id": "67749472-d411-4d8c-89de-cc1bee0e744d",
   "metadata": {},
   "source": [
    "# Reshape for flatten to 1-D"
   ]
  },
  {
   "cell_type": "code",
   "execution_count": 129,
   "id": "8da885b0-d607-4534-9eeb-e3db952d61c9",
   "metadata": {},
   "outputs": [
    {
     "name": "stdout",
     "output_type": "stream",
     "text": [
      "original array [[1 2 3]\n",
      " [4 5 6]]\n",
      "\n",
      "flatten array [1 2 3 4 5 6]\n"
     ]
    }
   ],
   "source": [
    "np1=np.array([[1,2,3],[4,5,6]])\n",
    "print(f\"original array {np1}\")\n",
    "np2=np1.reshape(-1)\n",
    "print()\n",
    "print(f\"flatten array {np2}\")"
   ]
  },
  {
   "cell_type": "code",
   "execution_count": 134,
   "id": "b2f9107f-6b50-4733-993f-74360ee9073f",
   "metadata": {},
   "outputs": [
    {
     "name": "stdout",
     "output_type": "stream",
     "text": [
      "original array:[ 4  2  6  8 23  5]\n",
      "\n",
      "sorted array: [ 2  4  5  6  8 23]\n"
     ]
    }
   ],
   "source": [
    "np1=np.array([4,2,6,8,23,5])\n",
    "print(f\"original array:{np1}\")\n",
    "print()\n",
    "print(f\"sorted array: {np.sort(np1)}\")"
   ]
  },
  {
   "cell_type": "code",
   "execution_count": 138,
   "id": "1f30d55c-8ced-49aa-b450-9196a1643493",
   "metadata": {},
   "outputs": [
    {
     "name": "stdout",
     "output_type": "stream",
     "text": [
      "original array: ['True' 'False' 'True' 'False']\n",
      "\n",
      "sorted array: ['False' 'False' 'True' 'True']\n"
     ]
    }
   ],
   "source": [
    "np1=np.array([\"True\",\"False\",\"True\",\"False\"])\n",
    "print(f\"original array: {np1}\")\n",
    "print()\n",
    "print(f\"sorted array: {np.sort(np1)}\")  # False act like 0 and True act like 1"
   ]
  },
  {
   "cell_type": "code",
   "execution_count": 141,
   "id": "cc31f41c-0db8-41cc-8f9b-ae641ffafb60",
   "metadata": {},
   "outputs": [
    {
     "name": "stdout",
     "output_type": "stream",
     "text": [
      "original array:[0 1 2 3 4 5 6 7 8 9]\n"
     ]
    }
   ],
   "source": [
    "np1=np.array([i for i in range(10)])\n",
    "print(f\"original array:{np1}\")"
   ]
  },
  {
   "cell_type": "code",
   "execution_count": 150,
   "id": "d6e800e9-3de1-4bfa-9baa-0590dadc9f22",
   "metadata": {},
   "outputs": [
    {
     "name": "stdout",
     "output_type": "stream",
     "text": [
      "(array([3], dtype=int64),)\n",
      "array of index with even numbers: (array([0, 2, 4, 6, 8], dtype=int64),)\n"
     ]
    }
   ],
   "source": [
    "x=np.where(np1==3)\n",
    "print(x)\n",
    "y=np.where(np1%2==0)\n",
    "print(f\"array of index with even numbers: {y}\")"
   ]
  },
  {
   "cell_type": "code",
   "execution_count": 153,
   "id": "50f780a3-00b6-4fb6-b971-57bc35fd47ef",
   "metadata": {},
   "outputs": [
    {
     "name": "stdout",
     "output_type": "stream",
     "text": [
      "[0 1 2 3 4 5 6 7 8 9]\n",
      "[ True False  True False  True False  True False  True False]\n",
      "\n",
      "[0 2 4 6 8]\n"
     ]
    }
   ],
   "source": [
    "print(np1)\n",
    "filtered=np1%2==0\n",
    "print(filtered)\n",
    "print()\n",
    "print(np1[filtered])"
   ]
  },
  {
   "cell_type": "code",
   "execution_count": null,
   "id": "18151ee2-1622-4b47-88a8-cd9915316d0b",
   "metadata": {},
   "outputs": [],
   "source": []
  }
 ],
 "metadata": {
  "kernelspec": {
   "display_name": "Python 3 (ipykernel)",
   "language": "python",
   "name": "python3"
  },
  "language_info": {
   "codemirror_mode": {
    "name": "ipython",
    "version": 3
   },
   "file_extension": ".py",
   "mimetype": "text/x-python",
   "name": "python",
   "nbconvert_exporter": "python",
   "pygments_lexer": "ipython3",
   "version": "3.11.5"
  }
 },
 "nbformat": 4,
 "nbformat_minor": 5
}
