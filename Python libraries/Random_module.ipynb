{
 "cells": [
  {
   "cell_type": "code",
   "execution_count": 48,
   "id": "8d4bf50d-989e-415f-b22c-a0e6ed7b4518",
   "metadata": {},
   "outputs": [],
   "source": [
    "import random\n",
    "import numpy as np"
   ]
  },
  {
   "cell_type": "code",
   "execution_count": 17,
   "id": "d30c1eba-c870-4446-9928-32400ed5c61a",
   "metadata": {},
   "outputs": [
    {
     "data": {
      "text/plain": [
       "7"
      ]
     },
     "execution_count": 17,
     "metadata": {},
     "output_type": "execute_result"
    }
   ],
   "source": [
    "a=random.randint(5,10)    # return a value b/w 5 and 10 including both values\n",
    "a"
   ]
  },
  {
   "cell_type": "code",
   "execution_count": 25,
   "id": "05e21784-4855-449b-87fe-5db6215410e6",
   "metadata": {},
   "outputs": [
    {
     "data": {
      "text/plain": [
       "3"
      ]
     },
     "execution_count": 25,
     "metadata": {},
     "output_type": "execute_result"
    }
   ],
   "source": [
    "a=random.randrange(3,9)  # return a value b/w 3 and 9 where 3(included) and 9(not included)\n",
    "a"
   ]
  },
  {
   "cell_type": "code",
   "execution_count": 28,
   "id": "5cdf63ad-4000-4ba8-9a54-f767a0f06d37",
   "metadata": {},
   "outputs": [
    {
     "name": "stdout",
     "output_type": "stream",
     "text": [
      "apple\n"
     ]
    }
   ],
   "source": [
    "l=['apple','banana','cherry']\n",
    "a=random.choice(l)\n",
    "print(a)"
   ]
  },
  {
   "cell_type": "code",
   "execution_count": 31,
   "id": "f2a01304-69ef-4b70-a82c-adf5085ae4fb",
   "metadata": {},
   "outputs": [
    {
     "data": {
      "text/plain": [
       "0.4282852972448553"
      ]
     },
     "execution_count": 31,
     "metadata": {},
     "output_type": "execute_result"
    }
   ],
   "source": [
    "a=random.random()  # return a float number b/w 0 and 1\n",
    "a"
   ]
  },
  {
   "cell_type": "code",
   "execution_count": 39,
   "id": "26ebe86e-cd59-44b3-8092-490b948c0551",
   "metadata": {},
   "outputs": [
    {
     "data": {
      "text/plain": [
       "5.889031904434809"
      ]
     },
     "execution_count": 39,
     "metadata": {},
     "output_type": "execute_result"
    }
   ],
   "source": [
    "a=random.uniform(1,10)  # return a float number b/w 2 given number\n",
    "a"
   ]
  },
  {
   "cell_type": "code",
   "execution_count": 46,
   "id": "b256a33b-75c2-4c99-a18f-2f930436197e",
   "metadata": {},
   "outputs": [
    {
     "name": "stdout",
     "output_type": "stream",
     "text": [
      "after shuffling values : [1, 7, 4, 5, 2]\n",
      "\n",
      "after shuffling values : ['banana', 'cherry', 'grapes', 'apple']\n"
     ]
    }
   ],
   "source": [
    "l=[1,2,7,4,5]\n",
    "random.shuffle(l)\n",
    "print(f'after shuffling values : {l}')\n",
    "print()\n",
    "l=['apple','banana','cherry','grapes']\n",
    "random.shuffle(l)\n",
    "print(f'after shuffling values : {l}')"
   ]
  },
  {
   "cell_type": "markdown",
   "id": "77508185-6cce-4775-b914-6eeb7c186a2a",
   "metadata": {},
   "source": [
    "# Random with numpy"
   ]
  },
  {
   "cell_type": "code",
   "execution_count": 63,
   "id": "5df037af-a958-4636-89c9-973670567288",
   "metadata": {},
   "outputs": [
    {
     "data": {
      "text/plain": [
       "0.5747609533153908"
      ]
     },
     "execution_count": 63,
     "metadata": {},
     "output_type": "execute_result"
    }
   ],
   "source": [
    "a=np.random.rand()  # return a number b/w 0 and 1\n",
    "a"
   ]
  },
  {
   "cell_type": "code",
   "execution_count": 59,
   "id": "abe15a62-bf50-4927-bad9-eca322cd4914",
   "metadata": {},
   "outputs": [
    {
     "name": "stdout",
     "output_type": "stream",
     "text": [
      "-0.033158857757929885\n",
      "<class 'float'>\n"
     ]
    }
   ],
   "source": [
    "a=np.random.randn()    # return a number close to 0 +ve and -ve both\n",
    "print(a)\n",
    "print(type(a))"
   ]
  },
  {
   "cell_type": "code",
   "execution_count": 65,
   "id": "20828fc0-61cf-4562-9e6b-274c64bda861",
   "metadata": {},
   "outputs": [
    {
     "data": {
      "text/plain": [
       "array([0.44486299, 0.21186527])"
      ]
     },
     "execution_count": 65,
     "metadata": {},
     "output_type": "execute_result"
    }
   ],
   "source": [
    "a=np.random.randn(2)    # will return an array of given size with values close to 0\n",
    "a"
   ]
  },
  {
   "cell_type": "code",
   "execution_count": 70,
   "id": "f11a90d4-43d3-4a92-9dce-314bae139fd0",
   "metadata": {},
   "outputs": [
    {
     "data": {
      "text/plain": [
       "array([[0.09049989, 0.75777227, 0.61938662],\n",
       "       [0.10763   , 0.9038291 , 0.27015124],\n",
       "       [0.14170863, 0.01479876, 0.63473849]])"
      ]
     },
     "execution_count": 70,
     "metadata": {},
     "output_type": "execute_result"
    }
   ],
   "source": [
    "a=np.random.ranf((3,3))   # return an array of given shape and float values in half open [0,1)\n",
    "a"
   ]
  },
  {
   "cell_type": "code",
   "execution_count": 78,
   "id": "eb39d671-1fd4-4958-bdc1-1cfc37fe9b58",
   "metadata": {},
   "outputs": [
    {
     "data": {
      "text/plain": [
       "5"
      ]
     },
     "execution_count": 78,
     "metadata": {},
     "output_type": "execute_result"
    }
   ],
   "source": [
    "a=np.random.randint(2,10)  # return a random value from given range\n",
    "a"
   ]
  },
  {
   "cell_type": "code",
   "execution_count": 94,
   "id": "f24bd69a-e8a8-4332-828a-818d3be3ba25",
   "metadata": {},
   "outputs": [
    {
     "data": {
      "text/plain": [
       "array([[0.855331  , 0.2306268 , 0.37812512],\n",
       "       [0.63959534, 0.98879381, 0.77043582],\n",
       "       [0.48467567, 0.79188548, 0.49798605],\n",
       "       [0.30038231, 0.0713177 , 0.64362089],\n",
       "       [0.12757007, 0.32925006, 0.03537926]])"
      ]
     },
     "execution_count": 94,
     "metadata": {},
     "output_type": "execute_result"
    }
   ],
   "source": [
    "a=np.random.random_sample((5,3))\n",
    "a"
   ]
  },
  {
   "cell_type": "code",
   "execution_count": 96,
   "id": "cf5d4ba1-852f-4d20-a6e3-93d5c226dd77",
   "metadata": {},
   "outputs": [],
   "source": [
    "# help(np.random.random_sample)"
   ]
  },
  {
   "cell_type": "code",
   "execution_count": null,
   "id": "db177c76-89f3-4b97-9887-07cc06a1a0d5",
   "metadata": {},
   "outputs": [],
   "source": []
  },
  {
   "cell_type": "code",
   "execution_count": null,
   "id": "bfb8109e-efe4-4265-b977-6159ba7fd556",
   "metadata": {},
   "outputs": [],
   "source": []
  }
 ],
 "metadata": {
  "kernelspec": {
   "display_name": "Python 3 (ipykernel)",
   "language": "python",
   "name": "python3"
  },
  "language_info": {
   "codemirror_mode": {
    "name": "ipython",
    "version": 3
   },
   "file_extension": ".py",
   "mimetype": "text/x-python",
   "name": "python",
   "nbconvert_exporter": "python",
   "pygments_lexer": "ipython3",
   "version": "3.11.5"
  }
 },
 "nbformat": 4,
 "nbformat_minor": 5
}
