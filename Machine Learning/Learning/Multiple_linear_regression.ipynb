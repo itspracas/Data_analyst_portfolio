{
 "cells": [
  {
   "cell_type": "code",
   "execution_count": 1,
   "id": "be593abc-c09e-4f36-87fb-c2e85e579ea8",
   "metadata": {},
   "outputs": [],
   "source": [
    "import numpy as np\n",
    "import pandas as pd\n",
    "from sklearn.datasets import make_regression\n",
    "import plotly.express as px\n",
    "import plotly.graph_objects as go\n",
    "from sklearn.metrics import mean_absolute_error,mean_squared_error,r2_score"
   ]
  },
  {
   "cell_type": "code",
   "execution_count": 2,
   "id": "24cbfdbc-15c9-4129-8ef0-a876f3b99b5d",
   "metadata": {},
   "outputs": [],
   "source": [
    "x,y=make_regression(n_samples=100,n_features=2,n_informative=2,n_targets=1,noise=50)"
   ]
  },
  {
   "cell_type": "code",
   "execution_count": 7,
   "id": "4a0d7669-5ccb-472c-b64e-e949ba510740",
   "metadata": {},
   "outputs": [
    {
     "name": "stdout",
     "output_type": "stream",
     "text": [
      "(100, 3)\n"
     ]
    },
    {
     "data": {
      "text/html": [
       "<div>\n",
       "<style scoped>\n",
       "    .dataframe tbody tr th:only-of-type {\n",
       "        vertical-align: middle;\n",
       "    }\n",
       "\n",
       "    .dataframe tbody tr th {\n",
       "        vertical-align: top;\n",
       "    }\n",
       "\n",
       "    .dataframe thead th {\n",
       "        text-align: right;\n",
       "    }\n",
       "</style>\n",
       "<table border=\"1\" class=\"dataframe\">\n",
       "  <thead>\n",
       "    <tr style=\"text-align: right;\">\n",
       "      <th></th>\n",
       "      <th>feature1</th>\n",
       "      <th>feature2</th>\n",
       "      <th>target</th>\n",
       "    </tr>\n",
       "  </thead>\n",
       "  <tbody>\n",
       "    <tr>\n",
       "      <th>0</th>\n",
       "      <td>-0.444050</td>\n",
       "      <td>0.979568</td>\n",
       "      <td>-17.689883</td>\n",
       "    </tr>\n",
       "    <tr>\n",
       "      <th>1</th>\n",
       "      <td>-0.786828</td>\n",
       "      <td>0.929754</td>\n",
       "      <td>11.217030</td>\n",
       "    </tr>\n",
       "    <tr>\n",
       "      <th>2</th>\n",
       "      <td>-1.053279</td>\n",
       "      <td>-1.564772</td>\n",
       "      <td>-140.175975</td>\n",
       "    </tr>\n",
       "    <tr>\n",
       "      <th>3</th>\n",
       "      <td>1.447611</td>\n",
       "      <td>-1.138632</td>\n",
       "      <td>75.860299</td>\n",
       "    </tr>\n",
       "    <tr>\n",
       "      <th>4</th>\n",
       "      <td>0.375422</td>\n",
       "      <td>-0.428729</td>\n",
       "      <td>54.616422</td>\n",
       "    </tr>\n",
       "  </tbody>\n",
       "</table>\n",
       "</div>"
      ],
      "text/plain": [
       "   feature1  feature2      target\n",
       "0 -0.444050  0.979568  -17.689883\n",
       "1 -0.786828  0.929754   11.217030\n",
       "2 -1.053279 -1.564772 -140.175975\n",
       "3  1.447611 -1.138632   75.860299\n",
       "4  0.375422 -0.428729   54.616422"
      ]
     },
     "execution_count": 7,
     "metadata": {},
     "output_type": "execute_result"
    }
   ],
   "source": [
    "df=pd.DataFrame({'feature1':x[:,0],'feature2':x[:,1],'target':y})\n",
    "print(df.shape)\n",
    "df.head()"
   ]
  },
  {
   "cell_type": "code",
   "execution_count": 17,
   "id": "0832dc92-c407-48ea-a73a-0ed762a20941",
   "metadata": {},
   "outputs": [
    {
     "data": {
      "application/vnd.plotly.v1+json": {
       "config": {
        "plotlyServerURL": "https://plot.ly"
       },
       "data": [
        {
         "hovertemplate": "feature1=%{x}<br>feature2=%{y}<br>target=%{z}<extra></extra>",
         "legendgroup": "",
         "marker": {
          "color": "#636efa",
          "symbol": "circle"
         },
         "mode": "markers",
         "name": "",
         "scene": "scene",
         "showlegend": false,
         "type": "scatter3d",
         "x": [
          -0.4440496337998009,
          -0.7868282352089383,
          -1.0532791711934084,
          1.447611390199493,
          0.37542247725262595,
          -0.49895122507014067,
          -0.8930638431647839,
          1.2739006770659473,
          0.6598207271127499,
          0.532866651319453,
          0.8219499965038213,
          1.0639168003588682,
          0.05545523429398099,
          -0.1336161592444348,
          1.4598131078818075,
          1.5603791764419908,
          0.5103727786099477,
          0.12474652207130914,
          -1.5868000312031005,
          -0.3866957228194896,
          -1.1123539997374035,
          -0.10336916886792852,
          0.283671035277909,
          1.8715043824673594,
          -0.1901782187155892,
          1.014344465539797,
          -0.6671276264842011,
          0.9997046086337867,
          -1.193234285921333,
          -1.9431321403679416,
          -0.545409710800233,
          0.23605878496299365,
          0.1854473172144099,
          0.055572086177197624,
          1.2669747552834574,
          0.5021038020692165,
          0.07935263023082849,
          0.8889803976072105,
          -0.4538026201461644,
          -0.4741515848964618,
          0.1683049589614485,
          0.03003001351491267,
          -1.5321162237588006,
          1.7199036427710253,
          0.4579706415533503,
          0.19257424399696974,
          0.14221029793269827,
          -0.4485148357347744,
          1.6374025795281855,
          0.6841728317997693,
          -0.017322450272675274,
          -0.03633402628948378,
          -0.9843056002897954,
          -0.12159711981969609,
          0.8898300886115205,
          0.45628354683276956,
          -1.9510971318746024,
          -0.8371636918338778,
          0.09539833514485238,
          0.28324876589139564,
          -1.2395243599937584,
          -0.2582661881268611,
          0.33490602467640884,
          0.3011126319208367,
          1.3587982887380043,
          -0.8971789321798538,
          1.2399857012513107,
          1.8471920092669718,
          -0.590793499772875,
          0.3491802131370271,
          -0.5029423118438096,
          0.6909343792906404,
          -0.08149344355010636,
          0.37353836019699316,
          1.467192601323016,
          -0.4744861243526767,
          -0.7830987478232658,
          -2.250940098471233,
          -0.1553485429616403,
          -1.314420830586314,
          0.17932020945463634,
          -0.9945582117459256,
          -2.480596106789873,
          -1.460780994346626,
          -1.8801848233676524,
          1.5471812918344445,
          -1.3017195315725127,
          -0.36354868052101413,
          0.6312216806022842,
          0.663191919138085,
          -1.0760839477001507,
          0.20959534877093133,
          0.707619767121964,
          -0.4293280246575133,
          -0.7969742896315202,
          -1.7154677664042581,
          0.4203414331908423,
          0.6432416443831857,
          -0.6446858177978191,
          1.0823043781144668
         ],
         "y": [
          0.979567659338645,
          0.9297536904848916,
          -1.5647720067632347,
          -1.138631973636623,
          -0.4287289904281765,
          -2.1087611541657028,
          1.5855325001870333,
          -1.5602521035556984,
          1.5224853977653907,
          -0.8121965008187808,
          -1.3149385625739256,
          -0.5868243407113155,
          -0.5584043050922068,
          1.024917263115243,
          0.9186207213500335,
          0.05186864678831949,
          -0.17599240470219765,
          0.0756044026778575,
          -0.7823834943646191,
          0.29273940925154474,
          0.6585636925791545,
          -1.1586584196209497,
          -2.42767283874712,
          -1.3039778105410484,
          0.63040916697084,
          -0.6249045978908176,
          -0.47452659888220267,
          0.5190171210384587,
          0.06722985579461976,
          -0.08931483284641957,
          1.0202141384929795,
          -2.0561726264112,
          -0.055803693798234404,
          -1.3346776548604264,
          -0.4315696702892866,
          0.3034758598912279,
          0.3222870800923197,
          -0.042530390712861306,
          -0.9223996830165622,
          0.12710887630328294,
          0.31752636514132354,
          -0.14396009446602945,
          -1.8834700878761006,
          0.12473566323224189,
          1.5842026416677246,
          0.24635578814683237,
          -0.056446383280591116,
          0.36131412954269077,
          -0.02486039386224461,
          -0.005447934891499861,
          0.7828451711523097,
          0.19511382903658073,
          0.036974381635946754,
          0.06970404930571535,
          -0.03997401924733949,
          0.5847405391101762,
          -0.003937572025311585,
          2.574042159265627,
          1.1518829286884167,
          -0.24185038555469457,
          0.6425151983742626,
          -0.6418952899728655,
          -1.0762340779757746,
          1.2555095921210089,
          -0.40150910468223655,
          -0.09537248245181125,
          -0.7347163752051489,
          -1.3341140739195578,
          -0.3732221791725925,
          0.645927639695506,
          1.490848484195162,
          0.8686318391898088,
          -1.3881762175725099,
          1.560470121995937,
          2.050369803016672,
          0.6114711079808532,
          0.04100914479664081,
          0.20343197174487537,
          -0.7008102684753817,
          0.32651605004569145,
          -1.6201963818823735,
          1.0989833083903093,
          -0.07403093245438791,
          -0.2023642726068433,
          -0.09460411689549329,
          -1.2185051715107555,
          -1.8063992995658007,
          -0.5068240179579497,
          -0.12449813093579866,
          -0.6447287020820451,
          -1.0795087042198832,
          -0.6497867335487825,
          0.575162252369365,
          0.5752971123607293,
          0.7461082518292771,
          0.8709663620523884,
          -0.4265983783290696,
          -0.04826657717503028,
          1.2289232436023858,
          -0.5201327238266056
         ],
         "z": [
          -17.689882969676106,
          11.217029567497548,
          -140.17597521240324,
          75.8602989909007,
          54.61642248893983,
          -25.427693776559153,
          25.031382488547223,
          137.75053701547625,
          85.12479247549814,
          -60.339055472151315,
          130.3072011843825,
          85.53374018796927,
          41.47529372089875,
          -25.501327844217794,
          225.02353496364154,
          200.72937745217547,
          62.90672378257929,
          -3.369161731044363,
          -152.88700563989173,
          -28.90177552021317,
          -5.729368969992734,
          28.883267035620072,
          -29.397510521887185,
          198.2464338723401,
          -102.92262187800395,
          148.21384457150606,
          -70.40621402364573,
          152.44693010476956,
          -47.14782280256635,
          -244.38797016775624,
          -94.3245770171894,
          -7.28198446917891,
          35.31310643347102,
          -88.364108532171,
          230.21093659939822,
          43.69154104567015,
          2.5486824557025116,
          -9.60440396401441,
          -95.77141856409065,
          -11.85927324605704,
          154.28108859452055,
          -20.029962750523286,
          -162.792877767473,
          117.50266240113436,
          50.56606601056836,
          43.1962662287598,
          123.1739265732949,
          15.020064882415262,
          77.19725904265525,
          56.63692210977252,
          10.253797224147911,
          30.50949293022203,
          -128.80575089394424,
          -2.8124774254001377,
          5.659710636271569,
          -117.96306644177399,
          -189.1040455834856,
          -85.2027655037868,
          -69.31833793491735,
          87.53680605890989,
          -57.90059586707677,
          64.69706231191371,
          33.48483872172592,
          32.85560130016453,
          189.58483204294123,
          -98.0602209196324,
          155.118078648277,
          161.53816199288315,
          -58.76327372563725,
          130.07833732152076,
          -55.455663324530825,
          97.37209817632522,
          -19.398519360302725,
          41.930658254583776,
          170.50999581683584,
          -49.68681195077354,
          -128.77309171801934,
          -258.77706416912804,
          -58.61103516004499,
          -65.7621373163151,
          -40.47688975893277,
          -119.3649018581797,
          -217.75575072408722,
          -77.62556275711027,
          -164.76076325634656,
          181.76212698284797,
          -159.95519598475082,
          -95.65907019343146,
          88.60605577517977,
          100.00518943451144,
          -41.056363666558454,
          -8.10436273468525,
          49.095991176813015,
          -52.060283320929045,
          -111.2758759601044,
          19.243079197940915,
          21.24016160135031,
          82.17397641813925,
          -41.80636879198704,
          156.7722536445802
         ]
        }
       ],
       "layout": {
        "autosize": true,
        "dragmode": "zoom",
        "legend": {
         "tracegroupgap": 0
        },
        "margin": {
         "t": 60
        },
        "scene": {
         "aspectmode": "auto",
         "aspectratio": {
          "x": 1,
          "y": 1,
          "z": 1
         },
         "camera": {
          "center": {
           "x": -0.05365257489938807,
           "y": 0.087929868634994,
           "z": -0.03427729373560606
          },
          "eye": {
           "x": 0.08913169834260515,
           "y": -1.8727075232830996,
           "z": 0.8729237141603111
          },
          "projection": {
           "type": "perspective"
          },
          "up": {
           "x": 0,
           "y": 0,
           "z": 1
          }
         },
         "domain": {
          "x": [
           0,
           1
          ],
          "y": [
           0,
           1
          ]
         },
         "dragmode": "turntable",
         "xaxis": {
          "title": {
           "text": "feature1"
          },
          "type": "linear"
         },
         "yaxis": {
          "title": {
           "text": "feature2"
          },
          "type": "linear"
         },
         "zaxis": {
          "title": {
           "text": "target"
          },
          "type": "linear"
         }
        },
        "template": {
         "data": {
          "bar": [
           {
            "error_x": {
             "color": "#2a3f5f"
            },
            "error_y": {
             "color": "#2a3f5f"
            },
            "marker": {
             "line": {
              "color": "#E5ECF6",
              "width": 0.5
             },
             "pattern": {
              "fillmode": "overlay",
              "size": 10,
              "solidity": 0.2
             }
            },
            "type": "bar"
           }
          ],
          "barpolar": [
           {
            "marker": {
             "line": {
              "color": "#E5ECF6",
              "width": 0.5
             },
             "pattern": {
              "fillmode": "overlay",
              "size": 10,
              "solidity": 0.2
             }
            },
            "type": "barpolar"
           }
          ],
          "carpet": [
           {
            "aaxis": {
             "endlinecolor": "#2a3f5f",
             "gridcolor": "white",
             "linecolor": "white",
             "minorgridcolor": "white",
             "startlinecolor": "#2a3f5f"
            },
            "baxis": {
             "endlinecolor": "#2a3f5f",
             "gridcolor": "white",
             "linecolor": "white",
             "minorgridcolor": "white",
             "startlinecolor": "#2a3f5f"
            },
            "type": "carpet"
           }
          ],
          "choropleth": [
           {
            "colorbar": {
             "outlinewidth": 0,
             "ticks": ""
            },
            "type": "choropleth"
           }
          ],
          "contour": [
           {
            "colorbar": {
             "outlinewidth": 0,
             "ticks": ""
            },
            "colorscale": [
             [
              0,
              "#0d0887"
             ],
             [
              0.1111111111111111,
              "#46039f"
             ],
             [
              0.2222222222222222,
              "#7201a8"
             ],
             [
              0.3333333333333333,
              "#9c179e"
             ],
             [
              0.4444444444444444,
              "#bd3786"
             ],
             [
              0.5555555555555556,
              "#d8576b"
             ],
             [
              0.6666666666666666,
              "#ed7953"
             ],
             [
              0.7777777777777778,
              "#fb9f3a"
             ],
             [
              0.8888888888888888,
              "#fdca26"
             ],
             [
              1,
              "#f0f921"
             ]
            ],
            "type": "contour"
           }
          ],
          "contourcarpet": [
           {
            "colorbar": {
             "outlinewidth": 0,
             "ticks": ""
            },
            "type": "contourcarpet"
           }
          ],
          "heatmap": [
           {
            "colorbar": {
             "outlinewidth": 0,
             "ticks": ""
            },
            "colorscale": [
             [
              0,
              "#0d0887"
             ],
             [
              0.1111111111111111,
              "#46039f"
             ],
             [
              0.2222222222222222,
              "#7201a8"
             ],
             [
              0.3333333333333333,
              "#9c179e"
             ],
             [
              0.4444444444444444,
              "#bd3786"
             ],
             [
              0.5555555555555556,
              "#d8576b"
             ],
             [
              0.6666666666666666,
              "#ed7953"
             ],
             [
              0.7777777777777778,
              "#fb9f3a"
             ],
             [
              0.8888888888888888,
              "#fdca26"
             ],
             [
              1,
              "#f0f921"
             ]
            ],
            "type": "heatmap"
           }
          ],
          "heatmapgl": [
           {
            "colorbar": {
             "outlinewidth": 0,
             "ticks": ""
            },
            "colorscale": [
             [
              0,
              "#0d0887"
             ],
             [
              0.1111111111111111,
              "#46039f"
             ],
             [
              0.2222222222222222,
              "#7201a8"
             ],
             [
              0.3333333333333333,
              "#9c179e"
             ],
             [
              0.4444444444444444,
              "#bd3786"
             ],
             [
              0.5555555555555556,
              "#d8576b"
             ],
             [
              0.6666666666666666,
              "#ed7953"
             ],
             [
              0.7777777777777778,
              "#fb9f3a"
             ],
             [
              0.8888888888888888,
              "#fdca26"
             ],
             [
              1,
              "#f0f921"
             ]
            ],
            "type": "heatmapgl"
           }
          ],
          "histogram": [
           {
            "marker": {
             "pattern": {
              "fillmode": "overlay",
              "size": 10,
              "solidity": 0.2
             }
            },
            "type": "histogram"
           }
          ],
          "histogram2d": [
           {
            "colorbar": {
             "outlinewidth": 0,
             "ticks": ""
            },
            "colorscale": [
             [
              0,
              "#0d0887"
             ],
             [
              0.1111111111111111,
              "#46039f"
             ],
             [
              0.2222222222222222,
              "#7201a8"
             ],
             [
              0.3333333333333333,
              "#9c179e"
             ],
             [
              0.4444444444444444,
              "#bd3786"
             ],
             [
              0.5555555555555556,
              "#d8576b"
             ],
             [
              0.6666666666666666,
              "#ed7953"
             ],
             [
              0.7777777777777778,
              "#fb9f3a"
             ],
             [
              0.8888888888888888,
              "#fdca26"
             ],
             [
              1,
              "#f0f921"
             ]
            ],
            "type": "histogram2d"
           }
          ],
          "histogram2dcontour": [
           {
            "colorbar": {
             "outlinewidth": 0,
             "ticks": ""
            },
            "colorscale": [
             [
              0,
              "#0d0887"
             ],
             [
              0.1111111111111111,
              "#46039f"
             ],
             [
              0.2222222222222222,
              "#7201a8"
             ],
             [
              0.3333333333333333,
              "#9c179e"
             ],
             [
              0.4444444444444444,
              "#bd3786"
             ],
             [
              0.5555555555555556,
              "#d8576b"
             ],
             [
              0.6666666666666666,
              "#ed7953"
             ],
             [
              0.7777777777777778,
              "#fb9f3a"
             ],
             [
              0.8888888888888888,
              "#fdca26"
             ],
             [
              1,
              "#f0f921"
             ]
            ],
            "type": "histogram2dcontour"
           }
          ],
          "mesh3d": [
           {
            "colorbar": {
             "outlinewidth": 0,
             "ticks": ""
            },
            "type": "mesh3d"
           }
          ],
          "parcoords": [
           {
            "line": {
             "colorbar": {
              "outlinewidth": 0,
              "ticks": ""
             }
            },
            "type": "parcoords"
           }
          ],
          "pie": [
           {
            "automargin": true,
            "type": "pie"
           }
          ],
          "scatter": [
           {
            "fillpattern": {
             "fillmode": "overlay",
             "size": 10,
             "solidity": 0.2
            },
            "type": "scatter"
           }
          ],
          "scatter3d": [
           {
            "line": {
             "colorbar": {
              "outlinewidth": 0,
              "ticks": ""
             }
            },
            "marker": {
             "colorbar": {
              "outlinewidth": 0,
              "ticks": ""
             }
            },
            "type": "scatter3d"
           }
          ],
          "scattercarpet": [
           {
            "marker": {
             "colorbar": {
              "outlinewidth": 0,
              "ticks": ""
             }
            },
            "type": "scattercarpet"
           }
          ],
          "scattergeo": [
           {
            "marker": {
             "colorbar": {
              "outlinewidth": 0,
              "ticks": ""
             }
            },
            "type": "scattergeo"
           }
          ],
          "scattergl": [
           {
            "marker": {
             "colorbar": {
              "outlinewidth": 0,
              "ticks": ""
             }
            },
            "type": "scattergl"
           }
          ],
          "scattermapbox": [
           {
            "marker": {
             "colorbar": {
              "outlinewidth": 0,
              "ticks": ""
             }
            },
            "type": "scattermapbox"
           }
          ],
          "scatterpolar": [
           {
            "marker": {
             "colorbar": {
              "outlinewidth": 0,
              "ticks": ""
             }
            },
            "type": "scatterpolar"
           }
          ],
          "scatterpolargl": [
           {
            "marker": {
             "colorbar": {
              "outlinewidth": 0,
              "ticks": ""
             }
            },
            "type": "scatterpolargl"
           }
          ],
          "scatterternary": [
           {
            "marker": {
             "colorbar": {
              "outlinewidth": 0,
              "ticks": ""
             }
            },
            "type": "scatterternary"
           }
          ],
          "surface": [
           {
            "colorbar": {
             "outlinewidth": 0,
             "ticks": ""
            },
            "colorscale": [
             [
              0,
              "#0d0887"
             ],
             [
              0.1111111111111111,
              "#46039f"
             ],
             [
              0.2222222222222222,
              "#7201a8"
             ],
             [
              0.3333333333333333,
              "#9c179e"
             ],
             [
              0.4444444444444444,
              "#bd3786"
             ],
             [
              0.5555555555555556,
              "#d8576b"
             ],
             [
              0.6666666666666666,
              "#ed7953"
             ],
             [
              0.7777777777777778,
              "#fb9f3a"
             ],
             [
              0.8888888888888888,
              "#fdca26"
             ],
             [
              1,
              "#f0f921"
             ]
            ],
            "type": "surface"
           }
          ],
          "table": [
           {
            "cells": {
             "fill": {
              "color": "#EBF0F8"
             },
             "line": {
              "color": "white"
             }
            },
            "header": {
             "fill": {
              "color": "#C8D4E3"
             },
             "line": {
              "color": "white"
             }
            },
            "type": "table"
           }
          ]
         },
         "layout": {
          "annotationdefaults": {
           "arrowcolor": "#2a3f5f",
           "arrowhead": 0,
           "arrowwidth": 1
          },
          "autotypenumbers": "strict",
          "coloraxis": {
           "colorbar": {
            "outlinewidth": 0,
            "ticks": ""
           }
          },
          "colorscale": {
           "diverging": [
            [
             0,
             "#8e0152"
            ],
            [
             0.1,
             "#c51b7d"
            ],
            [
             0.2,
             "#de77ae"
            ],
            [
             0.3,
             "#f1b6da"
            ],
            [
             0.4,
             "#fde0ef"
            ],
            [
             0.5,
             "#f7f7f7"
            ],
            [
             0.6,
             "#e6f5d0"
            ],
            [
             0.7,
             "#b8e186"
            ],
            [
             0.8,
             "#7fbc41"
            ],
            [
             0.9,
             "#4d9221"
            ],
            [
             1,
             "#276419"
            ]
           ],
           "sequential": [
            [
             0,
             "#0d0887"
            ],
            [
             0.1111111111111111,
             "#46039f"
            ],
            [
             0.2222222222222222,
             "#7201a8"
            ],
            [
             0.3333333333333333,
             "#9c179e"
            ],
            [
             0.4444444444444444,
             "#bd3786"
            ],
            [
             0.5555555555555556,
             "#d8576b"
            ],
            [
             0.6666666666666666,
             "#ed7953"
            ],
            [
             0.7777777777777778,
             "#fb9f3a"
            ],
            [
             0.8888888888888888,
             "#fdca26"
            ],
            [
             1,
             "#f0f921"
            ]
           ],
           "sequentialminus": [
            [
             0,
             "#0d0887"
            ],
            [
             0.1111111111111111,
             "#46039f"
            ],
            [
             0.2222222222222222,
             "#7201a8"
            ],
            [
             0.3333333333333333,
             "#9c179e"
            ],
            [
             0.4444444444444444,
             "#bd3786"
            ],
            [
             0.5555555555555556,
             "#d8576b"
            ],
            [
             0.6666666666666666,
             "#ed7953"
            ],
            [
             0.7777777777777778,
             "#fb9f3a"
            ],
            [
             0.8888888888888888,
             "#fdca26"
            ],
            [
             1,
             "#f0f921"
            ]
           ]
          },
          "colorway": [
           "#636efa",
           "#EF553B",
           "#00cc96",
           "#ab63fa",
           "#FFA15A",
           "#19d3f3",
           "#FF6692",
           "#B6E880",
           "#FF97FF",
           "#FECB52"
          ],
          "font": {
           "color": "#2a3f5f"
          },
          "geo": {
           "bgcolor": "white",
           "lakecolor": "white",
           "landcolor": "#E5ECF6",
           "showlakes": true,
           "showland": true,
           "subunitcolor": "white"
          },
          "hoverlabel": {
           "align": "left"
          },
          "hovermode": "closest",
          "mapbox": {
           "style": "light"
          },
          "paper_bgcolor": "white",
          "plot_bgcolor": "#E5ECF6",
          "polar": {
           "angularaxis": {
            "gridcolor": "white",
            "linecolor": "white",
            "ticks": ""
           },
           "bgcolor": "#E5ECF6",
           "radialaxis": {
            "gridcolor": "white",
            "linecolor": "white",
            "ticks": ""
           }
          },
          "scene": {
           "xaxis": {
            "backgroundcolor": "#E5ECF6",
            "gridcolor": "white",
            "gridwidth": 2,
            "linecolor": "white",
            "showbackground": true,
            "ticks": "",
            "zerolinecolor": "white"
           },
           "yaxis": {
            "backgroundcolor": "#E5ECF6",
            "gridcolor": "white",
            "gridwidth": 2,
            "linecolor": "white",
            "showbackground": true,
            "ticks": "",
            "zerolinecolor": "white"
           },
           "zaxis": {
            "backgroundcolor": "#E5ECF6",
            "gridcolor": "white",
            "gridwidth": 2,
            "linecolor": "white",
            "showbackground": true,
            "ticks": "",
            "zerolinecolor": "white"
           }
          },
          "shapedefaults": {
           "line": {
            "color": "#2a3f5f"
           }
          },
          "ternary": {
           "aaxis": {
            "gridcolor": "white",
            "linecolor": "white",
            "ticks": ""
           },
           "baxis": {
            "gridcolor": "white",
            "linecolor": "white",
            "ticks": ""
           },
           "bgcolor": "#E5ECF6",
           "caxis": {
            "gridcolor": "white",
            "linecolor": "white",
            "ticks": ""
           }
          },
          "title": {
           "x": 0.05
          },
          "xaxis": {
           "automargin": true,
           "gridcolor": "white",
           "linecolor": "white",
           "ticks": "",
           "title": {
            "standoff": 15
           },
           "zerolinecolor": "white",
           "zerolinewidth": 2
          },
          "yaxis": {
           "automargin": true,
           "gridcolor": "white",
           "linecolor": "white",
           "ticks": "",
           "title": {
            "standoff": 15
           },
           "zerolinecolor": "white",
           "zerolinewidth": 2
          }
         }
        }
       }
      },
      "image/png": "[encoded data removed]",
      "text/html": [
       "<div>                            <div id=\"373280ef-a6dd-4d91-9fd0-fbd77e378053\" class=\"plotly-graph-div\" style=\"height:525px; width:100%;\"></div>            <script type=\"text/javascript\">                require([\"plotly\"], function(Plotly) {                    window.PLOTLYENV=window.PLOTLYENV || {};                                    if (document.getElementById(\"373280ef-a6dd-4d91-9fd0-fbd77e378053\")) {                    Plotly.newPlot(                        \"373280ef-a6dd-4d91-9fd0-fbd77e378053\",                        [{\"hovertemplate\":\"feature1=%{x}<br>feature2=%{y}<br>target=%{z}<extra></extra>\",\"legendgroup\":\"\",\"marker\":{\"color\":\"#636efa\",\"symbol\":\"circle\"},\"mode\":\"markers\",\"name\":\"\",\"scene\":\"scene\",\"showlegend\":false,\"x\":[-0.4440496337998009,-0.7868282352089383,-1.0532791711934084,1.447611390199493,0.37542247725262595,-0.49895122507014067,-0.8930638431647839,1.2739006770659473,0.6598207271127499,0.532866651319453,0.8219499965038213,1.0639168003588682,0.05545523429398099,-0.1336161592444348,1.4598131078818075,1.5603791764419908,0.5103727786099477,0.12474652207130914,-1.5868000312031005,-0.3866957228194896,-1.1123539997374035,-0.10336916886792852,0.283671035277909,1.8715043824673594,-0.1901782187155892,1.014344465539797,-0.6671276264842011,0.9997046086337867,-1.193234285921333,-1.9431321403679416,-0.545409710800233,0.23605878496299365,0.1854473172144099,0.055572086177197624,1.2669747552834574,0.5021038020692165,0.07935263023082849,0.8889803976072105,-0.4538026201461644,-0.4741515848964618,0.1683049589614485,0.03003001351491267,-1.5321162237588006,1.7199036427710253,0.4579706415533503,0.19257424399696974,0.14221029793269827,-0.4485148357347744,1.6374025795281855,0.6841728317997693,-0.017322450272675274,-0.03633402628948378,-0.9843056002897954,-0.12159711981969609,0.8898300886115205,0.45628354683276956,-1.9510971318746024,-0.8371636918338778,0.09539833514485238,0.28324876589139564,-1.2395243599937584,-0.2582661881268611,0.33490602467640884,0.3011126319208367,1.3587982887380043,-0.8971789321798538,1.2399857012513107,1.8471920092669718,-0.590793499772875,0.3491802131370271,-0.5029423118438096,0.6909343792906404,-0.08149344355010636,0.37353836019699316,1.467192601323016,-0.4744861243526767,-0.7830987478232658,-2.250940098471233,-0.1553485429616403,-1.314420830586314,0.17932020945463634,-0.9945582117459256,-2.480596106789873,-1.460780994346626,-1.8801848233676524,1.5471812918344445,-1.3017195315725127,-0.36354868052101413,0.6312216806022842,0.663191919138085,-1.0760839477001507,0.20959534877093133,0.707619767121964,-0.4293280246575133,-0.7969742896315202,-1.7154677664042581,0.4203414331908423,0.6432416443831857,-0.6446858177978191,1.0823043781144668],\"y\":[0.979567659338645,0.9297536904848916,-1.5647720067632347,-1.138631973636623,-0.4287289904281765,-2.1087611541657028,1.5855325001870333,-1.5602521035556984,1.5224853977653907,-0.8121965008187808,-1.3149385625739256,-0.5868243407113155,-0.5584043050922068,1.024917263115243,0.9186207213500335,0.05186864678831949,-0.17599240470219765,0.0756044026778575,-0.7823834943646191,0.29273940925154474,0.6585636925791545,-1.1586584196209497,-2.42767283874712,-1.3039778105410484,0.63040916697084,-0.6249045978908176,-0.47452659888220267,0.5190171210384587,0.06722985579461976,-0.08931483284641957,1.0202141384929795,-2.0561726264112,-0.055803693798234404,-1.3346776548604264,-0.4315696702892866,0.3034758598912279,0.3222870800923197,-0.042530390712861306,-0.9223996830165622,0.12710887630328294,0.31752636514132354,-0.14396009446602945,-1.8834700878761006,0.12473566323224189,1.5842026416677246,0.24635578814683237,-0.056446383280591116,0.36131412954269077,-0.02486039386224461,-0.005447934891499861,0.7828451711523097,0.19511382903658073,0.036974381635946754,0.06970404930571535,-0.03997401924733949,0.5847405391101762,-0.003937572025311585,2.574042159265627,1.1518829286884167,-0.24185038555469457,0.6425151983742626,-0.6418952899728655,-1.0762340779757746,1.2555095921210089,-0.40150910468223655,-0.09537248245181125,-0.7347163752051489,-1.3341140739195578,-0.3732221791725925,0.645927639695506,1.490848484195162,0.8686318391898088,-1.3881762175725099,1.560470121995937,2.050369803016672,0.6114711079808532,0.04100914479664081,0.20343197174487537,-0.7008102684753817,0.32651605004569145,-1.6201963818823735,1.0989833083903093,-0.07403093245438791,-0.2023642726068433,-0.09460411689549329,-1.2185051715107555,-1.8063992995658007,-0.5068240179579497,-0.12449813093579866,-0.6447287020820451,-1.0795087042198832,-0.6497867335487825,0.575162252369365,0.5752971123607293,0.7461082518292771,0.8709663620523884,-0.4265983783290696,-0.04826657717503028,1.2289232436023858,-0.5201327238266056],\"z\":[-17.689882969676106,11.217029567497548,-140.17597521240324,75.8602989909007,54.61642248893983,-25.427693776559153,25.031382488547223,137.75053701547625,85.12479247549814,-60.339055472151315,130.3072011843825,85.53374018796927,41.47529372089875,-25.501327844217794,225.02353496364154,200.72937745217547,62.90672378257929,-3.369161731044363,-152.88700563989173,-28.90177552021317,-5.729368969992734,28.883267035620072,-29.397510521887185,198.2464338723401,-102.92262187800395,148.21384457150606,-70.40621402364573,152.44693010476956,-47.14782280256635,-244.38797016775624,-94.3245770171894,-7.28198446917891,35.31310643347102,-88.364108532171,230.21093659939822,43.69154104567015,2.5486824557025116,-9.60440396401441,-95.77141856409065,-11.85927324605704,154.28108859452055,-20.029962750523286,-162.792877767473,117.50266240113436,50.56606601056836,43.1962662287598,123.1739265732949,15.020064882415262,77.19725904265525,56.63692210977252,10.253797224147911,30.50949293022203,-128.80575089394424,-2.8124774254001377,5.659710636271569,-117.96306644177399,-189.1040455834856,-85.2027655037868,-69.31833793491735,87.53680605890989,-57.90059586707677,64.69706231191371,33.48483872172592,32.85560130016453,189.58483204294123,-98.0602209196324,155.118078648277,161.53816199288315,-58.76327372563725,130.07833732152076,-55.455663324530825,97.37209817632522,-19.398519360302725,41.930658254583776,170.50999581683584,-49.68681195077354,-128.77309171801934,-258.77706416912804,-58.61103516004499,-65.7621373163151,-40.47688975893277,-119.3649018581797,-217.75575072408722,-77.62556275711027,-164.76076325634656,181.76212698284797,-159.95519598475082,-95.65907019343146,88.60605577517977,100.00518943451144,-41.056363666558454,-8.10436273468525,49.095991176813015,-52.060283320929045,-111.2758759601044,19.243079197940915,21.24016160135031,82.17397641813925,-41.80636879198704,156.7722536445802],\"type\":\"scatter3d\"}],                        {\"template\":{\"data\":{\"histogram2dcontour\":[{\"type\":\"histogram2dcontour\",\"colorbar\":{\"outlinewidth\":0,\"ticks\":\"\"},\"colorscale\":[[0.0,\"#0d0887\"],[0.1111111111111111,\"#46039f\"],[0.2222222222222222,\"#7201a8\"],[0.3333333333333333,\"#9c179e\"],[0.4444444444444444,\"#bd3786\"],[0.5555555555555556,\"#d8576b\"],[0.6666666666666666,\"#ed7953\"],[0.7777777777777778,\"#fb9f3a\"],[0.8888888888888888,\"#fdca26\"],[1.0,\"#f0f921\"]]}],\"choropleth\":[{\"type\":\"choropleth\",\"colorbar\":{\"outlinewidth\":0,\"ticks\":\"\"}}],\"histogram2d\":[{\"type\":\"histogram2d\",\"colorbar\":{\"outlinewidth\":0,\"ticks\":\"\"},\"colorscale\":[[0.0,\"#0d0887\"],[0.1111111111111111,\"#46039f\"],[0.2222222222222222,\"#7201a8\"],[0.3333333333333333,\"#9c179e\"],[0.4444444444444444,\"#bd3786\"],[0.5555555555555556,\"#d8576b\"],[0.6666666666666666,\"#ed7953\"],[0.7777777777777778,\"#fb9f3a\"],[0.8888888888888888,\"#fdca26\"],[1.0,\"#f0f921\"]]}],\"heatmap\":[{\"type\":\"heatmap\",\"colorbar\":{\"outlinewidth\":0,\"ticks\":\"\"},\"colorscale\":[[0.0,\"#0d0887\"],[0.1111111111111111,\"#46039f\"],[0.2222222222222222,\"#7201a8\"],[0.3333333333333333,\"#9c179e\"],[0.4444444444444444,\"#bd3786\"],[0.5555555555555556,\"#d8576b\"],[0.6666666666666666,\"#ed7953\"],[0.7777777777777778,\"#fb9f3a\"],[0.8888888888888888,\"#fdca26\"],[1.0,\"#f0f921\"]]}],\"heatmapgl\":[{\"type\":\"heatmapgl\",\"colorbar\":{\"outlinewidth\":0,\"ticks\":\"\"},\"colorscale\":[[0.0,\"#0d0887\"],[0.1111111111111111,\"#46039f\"],[0.2222222222222222,\"#7201a8\"],[0.3333333333333333,\"#9c179e\"],[0.4444444444444444,\"#bd3786\"],[0.5555555555555556,\"#d8576b\"],[0.6666666666666666,\"#ed7953\"],[0.7777777777777778,\"#fb9f3a\"],[0.8888888888888888,\"#fdca26\"],[1.0,\"#f0f921\"]]}],\"contourcarpet\":[{\"type\":\"contourcarpet\",\"colorbar\":{\"outlinewidth\":0,\"ticks\":\"\"}}],\"contour\":[{\"type\":\"contour\",\"colorbar\":{\"outlinewidth\":0,\"ticks\":\"\"},\"colorscale\":[[0.0,\"#0d0887\"],[0.1111111111111111,\"#46039f\"],[0.2222222222222222,\"#7201a8\"],[0.3333333333333333,\"#9c179e\"],[0.4444444444444444,\"#bd3786\"],[0.5555555555555556,\"#d8576b\"],[0.6666666666666666,\"#ed7953\"],[0.7777777777777778,\"#fb9f3a\"],[0.8888888888888888,\"#fdca26\"],[1.0,\"#f0f921\"]]}],\"surface\":[{\"type\":\"surface\",\"colorbar\":{\"outlinewidth\":0,\"ticks\":\"\"},\"colorscale\":[[0.0,\"#0d0887\"],[0.1111111111111111,\"#46039f\"],[0.2222222222222222,\"#7201a8\"],[0.3333333333333333,\"#9c179e\"],[0.4444444444444444,\"#bd3786\"],[0.5555555555555556,\"#d8576b\"],[0.6666666666666666,\"#ed7953\"],[0.7777777777777778,\"#fb9f3a\"],[0.8888888888888888,\"#fdca26\"],[1.0,\"#f0f921\"]]}],\"mesh3d\":[{\"type\":\"mesh3d\",\"colorbar\":{\"outlinewidth\":0,\"ticks\":\"\"}}],\"scatter\":[{\"fillpattern\":{\"fillmode\":\"overlay\",\"size\":10,\"solidity\":0.2},\"type\":\"scatter\"}],\"parcoords\":[{\"type\":\"parcoords\",\"line\":{\"colorbar\":{\"outlinewidth\":0,\"ticks\":\"\"}}}],\"scatterpolargl\":[{\"type\":\"scatterpolargl\",\"marker\":{\"colorbar\":{\"outlinewidth\":0,\"ticks\":\"\"}}}],\"bar\":[{\"error_x\":{\"color\":\"#2a3f5f\"},\"error_y\":{\"color\":\"#2a3f5f\"},\"marker\":{\"line\":{\"color\":\"#E5ECF6\",\"width\":0.5},\"pattern\":{\"fillmode\":\"overlay\",\"size\":10,\"solidity\":0.2}},\"type\":\"bar\"}],\"scattergeo\":[{\"type\":\"scattergeo\",\"marker\":{\"colorbar\":{\"outlinewidth\":0,\"ticks\":\"\"}}}],\"scatterpolar\":[{\"type\":\"scatterpolar\",\"marker\":{\"colorbar\":{\"outlinewidth\":0,\"ticks\":\"\"}}}],\"histogram\":[{\"marker\":{\"pattern\":{\"fillmode\":\"overlay\",\"size\":10,\"solidity\":0.2}},\"type\":\"histogram\"}],\"scattergl\":[{\"type\":\"scattergl\",\"marker\":{\"colorbar\":{\"outlinewidth\":0,\"ticks\":\"\"}}}],\"scatter3d\":[{\"type\":\"scatter3d\",\"line\":{\"colorbar\":{\"outlinewidth\":0,\"ticks\":\"\"}},\"marker\":{\"colorbar\":{\"outlinewidth\":0,\"ticks\":\"\"}}}],\"scattermapbox\":[{\"type\":\"scattermapbox\",\"marker\":{\"colorbar\":{\"outlinewidth\":0,\"ticks\":\"\"}}}],\"scatterternary\":[{\"type\":\"scatterternary\",\"marker\":{\"colorbar\":{\"outlinewidth\":0,\"ticks\":\"\"}}}],\"scattercarpet\":[{\"type\":\"scattercarpet\",\"marker\":{\"colorbar\":{\"outlinewidth\":0,\"ticks\":\"\"}}}],\"carpet\":[{\"aaxis\":{\"endlinecolor\":\"#2a3f5f\",\"gridcolor\":\"white\",\"linecolor\":\"white\",\"minorgridcolor\":\"white\",\"startlinecolor\":\"#2a3f5f\"},\"baxis\":{\"endlinecolor\":\"#2a3f5f\",\"gridcolor\":\"white\",\"linecolor\":\"white\",\"minorgridcolor\":\"white\",\"startlinecolor\":\"#2a3f5f\"},\"type\":\"carpet\"}],\"table\":[{\"cells\":{\"fill\":{\"color\":\"#EBF0F8\"},\"line\":{\"color\":\"white\"}},\"header\":{\"fill\":{\"color\":\"#C8D4E3\"},\"line\":{\"color\":\"white\"}},\"type\":\"table\"}],\"barpolar\":[{\"marker\":{\"line\":{\"color\":\"#E5ECF6\",\"width\":0.5},\"pattern\":{\"fillmode\":\"overlay\",\"size\":10,\"solidity\":0.2}},\"type\":\"barpolar\"}],\"pie\":[{\"automargin\":true,\"type\":\"pie\"}]},\"layout\":{\"autotypenumbers\":\"strict\",\"colorway\":[\"#636efa\",\"#EF553B\",\"#00cc96\",\"#ab63fa\",\"#FFA15A\",\"#19d3f3\",\"#FF6692\",\"#B6E880\",\"#FF97FF\",\"#FECB52\"],\"font\":{\"color\":\"#2a3f5f\"},\"hovermode\":\"closest\",\"hoverlabel\":{\"align\":\"left\"},\"paper_bgcolor\":\"white\",\"plot_bgcolor\":\"#E5ECF6\",\"polar\":{\"bgcolor\":\"#E5ECF6\",\"angularaxis\":{\"gridcolor\":\"white\",\"linecolor\":\"white\",\"ticks\":\"\"},\"radialaxis\":{\"gridcolor\":\"white\",\"linecolor\":\"white\",\"ticks\":\"\"}},\"ternary\":{\"bgcolor\":\"#E5ECF6\",\"aaxis\":{\"gridcolor\":\"white\",\"linecolor\":\"white\",\"ticks\":\"\"},\"baxis\":{\"gridcolor\":\"white\",\"linecolor\":\"white\",\"ticks\":\"\"},\"caxis\":{\"gridcolor\":\"white\",\"linecolor\":\"white\",\"ticks\":\"\"}},\"coloraxis\":{\"colorbar\":{\"outlinewidth\":0,\"ticks\":\"\"}},\"colorscale\":{\"sequential\":[[0.0,\"#0d0887\"],[0.1111111111111111,\"#46039f\"],[0.2222222222222222,\"#7201a8\"],[0.3333333333333333,\"#9c179e\"],[0.4444444444444444,\"#bd3786\"],[0.5555555555555556,\"#d8576b\"],[0.6666666666666666,\"#ed7953\"],[0.7777777777777778,\"#fb9f3a\"],[0.8888888888888888,\"#fdca26\"],[1.0,\"#f0f921\"]],\"sequentialminus\":[[0.0,\"#0d0887\"],[0.1111111111111111,\"#46039f\"],[0.2222222222222222,\"#7201a8\"],[0.3333333333333333,\"#9c179e\"],[0.4444444444444444,\"#bd3786\"],[0.5555555555555556,\"#d8576b\"],[0.6666666666666666,\"#ed7953\"],[0.7777777777777778,\"#fb9f3a\"],[0.8888888888888888,\"#fdca26\"],[1.0,\"#f0f921\"]],\"diverging\":[[0,\"#8e0152\"],[0.1,\"#c51b7d\"],[0.2,\"#de77ae\"],[0.3,\"#f1b6da\"],[0.4,\"#fde0ef\"],[0.5,\"#f7f7f7\"],[0.6,\"#e6f5d0\"],[0.7,\"#b8e186\"],[0.8,\"#7fbc41\"],[0.9,\"#4d9221\"],[1,\"#276419\"]]},\"xaxis\":{\"gridcolor\":\"white\",\"linecolor\":\"white\",\"ticks\":\"\",\"title\":{\"standoff\":15},\"zerolinecolor\":\"white\",\"automargin\":true,\"zerolinewidth\":2},\"yaxis\":{\"gridcolor\":\"white\",\"linecolor\":\"white\",\"ticks\":\"\",\"title\":{\"standoff\":15},\"zerolinecolor\":\"white\",\"automargin\":true,\"zerolinewidth\":2},\"scene\":{\"xaxis\":{\"backgroundcolor\":\"#E5ECF6\",\"gridcolor\":\"white\",\"linecolor\":\"white\",\"showbackground\":true,\"ticks\":\"\",\"zerolinecolor\":\"white\",\"gridwidth\":2},\"yaxis\":{\"backgroundcolor\":\"#E5ECF6\",\"gridcolor\":\"white\",\"linecolor\":\"white\",\"showbackground\":true,\"ticks\":\"\",\"zerolinecolor\":\"white\",\"gridwidth\":2},\"zaxis\":{\"backgroundcolor\":\"#E5ECF6\",\"gridcolor\":\"white\",\"linecolor\":\"white\",\"showbackground\":true,\"ticks\":\"\",\"zerolinecolor\":\"white\",\"gridwidth\":2}},\"shapedefaults\":{\"line\":{\"color\":\"#2a3f5f\"}},\"annotationdefaults\":{\"arrowcolor\":\"#2a3f5f\",\"arrowhead\":0,\"arrowwidth\":1},\"geo\":{\"bgcolor\":\"white\",\"landcolor\":\"#E5ECF6\",\"subunitcolor\":\"white\",\"showland\":true,\"showlakes\":true,\"lakecolor\":\"white\"},\"title\":{\"x\":0.05},\"mapbox\":{\"style\":\"light\"}}},\"scene\":{\"domain\":{\"x\":[0.0,1.0],\"y\":[0.0,1.0]},\"xaxis\":{\"title\":{\"text\":\"feature1\"}},\"yaxis\":{\"title\":{\"text\":\"feature2\"}},\"zaxis\":{\"title\":{\"text\":\"target\"}}},\"legend\":{\"tracegroupgap\":0},\"margin\":{\"t\":60}},                        {\"responsive\": true}                    ).then(function(){\n",
       "                            \n",
       "var gd = document.getElementById('373280ef-a6dd-4d91-9fd0-fbd77e378053');\n",
       "var x = new MutationObserver(function (mutations, observer) {{\n",
       "        var display = window.getComputedStyle(gd).display;\n",
       "        if (!display || display === 'none') {{\n",
       "            console.log([gd, 'removed!']);\n",
       "            Plotly.purge(gd);\n",
       "            observer.disconnect();\n",
       "        }}\n",
       "}});\n",
       "\n",
       "// Listen for the removal of the full notebook cells\n",
       "var notebookContainer = gd.closest('#notebook-container');\n",
       "if (notebookContainer) {{\n",
       "    x.observe(notebookContainer, {childList: true});\n",
       "}}\n",
       "\n",
       "// Listen for the clearing of the current output cell\n",
       "var outputEl = gd.closest('.output');\n",
       "if (outputEl) {{\n",
       "    x.observe(outputEl, {childList: true});\n",
       "}}\n",
       "\n",
       "                        })                };                });            </script>        </div>"
      ]
     },
     "metadata": {},
     "output_type": "display_data"
    }
   ],
   "source": [
    "fig=px.scatter_3d(df,x='feature1',y='feature2',z='target')\n",
    "fig.show()"
   ]
  },
  {
   "cell_type": "code",
   "execution_count": 18,
   "id": "1d7f932d-cbb3-4a8c-9ea9-1eb6b738b269",
   "metadata": {},
   "outputs": [],
   "source": [
    "from sklearn.model_selection import train_test_split\n",
    "x_train,x_test,y_train,y_test =train_test_split(x,y,test_size=0.2,random_state=2)"
   ]
  },
  {
   "cell_type": "code",
   "execution_count": 19,
   "id": "8b7021bf-c898-4418-9d59-4ee5a09e95ac",
   "metadata": {},
   "outputs": [],
   "source": [
    "from sklearn.linear_model import LinearRegression"
   ]
  },
  {
   "cell_type": "code",
   "execution_count": 20,
   "id": "fef5e461-450f-4c4e-8cc6-1cf9372b04bd",
   "metadata": {},
   "outputs": [],
   "source": [
    "lr=LinearRegression()"
   ]
  },
  {
   "cell_type": "code",
   "execution_count": 21,
   "id": "b560b114-523c-43eb-bba4-8fe8906ae6af",
   "metadata": {},
   "outputs": [
    {
     "data": {
      "text/html": [
       "<style>#sk-container-id-1 {color: black;}#sk-container-id-1 pre{padding: 0;}#sk-container-id-1 div.sk-toggleable {background-color: white;}#sk-container-id-1 label.sk-toggleable__label {cursor: pointer;display: block;width: 100%;margin-bottom: 0;padding: 0.3em;box-sizing: border-box;text-align: center;}#sk-container-id-1 label.sk-toggleable__label-arrow:before {content: \"▸\";float: left;margin-right: 0.25em;color: #696969;}#sk-container-id-1 label.sk-toggleable__label-arrow:hover:before {color: black;}#sk-container-id-1 div.sk-estimator:hover label.sk-toggleable__label-arrow:before {color: black;}#sk-container-id-1 div.sk-toggleable__content {max-height: 0;max-width: 0;overflow: hidden;text-align: left;background-color: #f0f8ff;}#sk-container-id-1 div.sk-toggleable__content pre {margin: 0.2em;color: black;border-radius: 0.25em;background-color: #f0f8ff;}#sk-container-id-1 input.sk-toggleable__control:checked~div.sk-toggleable__content {max-height: 200px;max-width: 100%;overflow: auto;}#sk-container-id-1 input.sk-toggleable__control:checked~label.sk-toggleable__label-arrow:before {content: \"▾\";}#sk-container-id-1 div.sk-estimator input.sk-toggleable__control:checked~label.sk-toggleable__label {background-color: #d4ebff;}#sk-container-id-1 div.sk-label input.sk-toggleable__control:checked~label.sk-toggleable__label {background-color: #d4ebff;}#sk-container-id-1 input.sk-hidden--visually {border: 0;clip: rect(1px 1px 1px 1px);clip: rect(1px, 1px, 1px, 1px);height: 1px;margin: -1px;overflow: hidden;padding: 0;position: absolute;width: 1px;}#sk-container-id-1 div.sk-estimator {font-family: monospace;background-color: #f0f8ff;border: 1px dotted black;border-radius: 0.25em;box-sizing: border-box;margin-bottom: 0.5em;}#sk-container-id-1 div.sk-estimator:hover {background-color: #d4ebff;}#sk-container-id-1 div.sk-parallel-item::after {content: \"\";width: 100%;border-bottom: 1px solid gray;flex-grow: 1;}#sk-container-id-1 div.sk-label:hover label.sk-toggleable__label {background-color: #d4ebff;}#sk-container-id-1 div.sk-serial::before {content: \"\";position: absolute;border-left: 1px solid gray;box-sizing: border-box;top: 0;bottom: 0;left: 50%;z-index: 0;}#sk-container-id-1 div.sk-serial {display: flex;flex-direction: column;align-items: center;background-color: white;padding-right: 0.2em;padding-left: 0.2em;position: relative;}#sk-container-id-1 div.sk-item {position: relative;z-index: 1;}#sk-container-id-1 div.sk-parallel {display: flex;align-items: stretch;justify-content: center;background-color: white;position: relative;}#sk-container-id-1 div.sk-item::before, #sk-container-id-1 div.sk-parallel-item::before {content: \"\";position: absolute;border-left: 1px solid gray;box-sizing: border-box;top: 0;bottom: 0;left: 50%;z-index: -1;}#sk-container-id-1 div.sk-parallel-item {display: flex;flex-direction: column;z-index: 1;position: relative;background-color: white;}#sk-container-id-1 div.sk-parallel-item:first-child::after {align-self: flex-end;width: 50%;}#sk-container-id-1 div.sk-parallel-item:last-child::after {align-self: flex-start;width: 50%;}#sk-container-id-1 div.sk-parallel-item:only-child::after {width: 0;}#sk-container-id-1 div.sk-dashed-wrapped {border: 1px dashed gray;margin: 0 0.4em 0.5em 0.4em;box-sizing: border-box;padding-bottom: 0.4em;background-color: white;}#sk-container-id-1 div.sk-label label {font-family: monospace;font-weight: bold;display: inline-block;line-height: 1.2em;}#sk-container-id-1 div.sk-label-container {text-align: center;}#sk-container-id-1 div.sk-container {/* jupyter's `normalize.less` sets `[hidden] { display: none; }` but bootstrap.min.css set `[hidden] { display: none !important; }` so we also need the `!important` here to be able to override the default hidden behavior on the sphinx rendered scikit-learn.org. See: https://github.com/scikit-learn/scikit-learn/issues/21755 */display: inline-block !important;position: relative;}#sk-container-id-1 div.sk-text-repr-fallback {display: none;}</style><div id=\"sk-container-id-1\" class=\"sk-top-container\"><div class=\"sk-text-repr-fallback\"><pre>LinearRegression()</pre><b>In a Jupyter environment, please rerun this cell to show the HTML representation or trust the notebook. <br />On GitHub, the HTML representation is unable to render, please try loading this page with nbviewer.org.</b></div><div class=\"sk-container\" hidden><div class=\"sk-item\"><div class=\"sk-estimator sk-toggleable\"><input class=\"sk-toggleable__control sk-hidden--visually\" id=\"sk-estimator-id-1\" type=\"checkbox\" checked><label for=\"sk-estimator-id-1\" class=\"sk-toggleable__label sk-toggleable__label-arrow\">LinearRegression</label><div class=\"sk-toggleable__content\"><pre>LinearRegression()</pre></div></div></div></div></div>"
      ],
      "text/plain": [
       "LinearRegression()"
      ]
     },
     "execution_count": 21,
     "metadata": {},
     "output_type": "execute_result"
    }
   ],
   "source": [
    "lr.fit(x_train,y_train)"
   ]
  },
  {
   "cell_type": "code",
   "execution_count": 22,
   "id": "8cdab46a-b822-4b82-81fa-9f7af4dc87c2",
   "metadata": {},
   "outputs": [],
   "source": [
    "y_pred=lr.predict(x_test)"
   ]
  },
  {
   "cell_type": "code",
   "execution_count": 23,
   "id": "5fa3399f-29c1-4013-96e6-eecaa3ab1dde",
   "metadata": {},
   "outputs": [
    {
     "name": "stdout",
     "output_type": "stream",
     "text": [
      "MAE 48.81173975716466\n",
      "MSE 2955.2193645836333\n",
      "R2 score 0.8146778627441313\n"
     ]
    }
   ],
   "source": [
    "print('MAE' , mean_absolute_error(y_test,y_pred))\n",
    "print('MSE' , mean_squared_error(y_test,y_pred)) # will be high b/c calculated in square terms\n",
    "print('R2 score' , r2_score(y_test,y_pred))  # how much target is explanable by all features"
   ]
  },
  {
   "cell_type": "code",
   "execution_count": 26,
   "id": "b207203d-7ec9-4f4e-8717-2d3b2bd4ec1b",
   "metadata": {},
   "outputs": [],
   "source": [
    "x=np.linspace(-5,5,10)\n",
    "y=np.linspace(-5,5,10)\n",
    "xGrid,yGrid=np.meshgrid(x,y)\n",
    "\n",
    "final=np.vstack((xGrid.ravel().reshape(1,100),yGrid.ravel().reshape(1,100))).T\n",
    "z_final=lr.predict(final).reshape(10,10)\n",
    "z=z_final"
   ]
  },
  {
   "cell_type": "code",
   "execution_count": 29,
   "id": "fcafd217-4b74-45ba-a16f-778d0402cebc",
   "metadata": {},
   "outputs": [
    {
     "data": {
      "application/vnd.plotly.v1+json": {
       "config": {
        "plotlyServerURL": "https://plot.ly"
       },
       "data": [
        {
         "hovertemplate": "feature1=%{x}<br>feature2=%{y}<br>target=%{z}<extra></extra>",
         "legendgroup": "",
         "marker": {
          "color": "#636efa",
          "symbol": "circle"
         },
         "mode": "markers",
         "name": "",
         "scene": "scene",
         "showlegend": false,
         "type": "scatter3d",
         "x": [
          -0.4440496337998009,
          -0.7868282352089383,
          -1.0532791711934084,
          1.447611390199493,
          0.37542247725262595,
          -0.49895122507014067,
          -0.8930638431647839,
          1.2739006770659473,
          0.6598207271127499,
          0.532866651319453,
          0.8219499965038213,
          1.0639168003588682,
          0.05545523429398099,
          -0.1336161592444348,
          1.4598131078818075,
          1.5603791764419908,
          0.5103727786099477,
          0.12474652207130914,
          -1.5868000312031005,
          -0.3866957228194896,
          -1.1123539997374035,
          -0.10336916886792852,
          0.283671035277909,
          1.8715043824673594,
          -0.1901782187155892,
          1.014344465539797,
          -0.6671276264842011,
          0.9997046086337867,
          -1.193234285921333,
          -1.9431321403679416,
          -0.545409710800233,
          0.23605878496299365,
          0.1854473172144099,
          0.055572086177197624,
          1.2669747552834574,
          0.5021038020692165,
          0.07935263023082849,
          0.8889803976072105,
          -0.4538026201461644,
          -0.4741515848964618,
          0.1683049589614485,
          0.03003001351491267,
          -1.5321162237588006,
          1.7199036427710253,
          0.4579706415533503,
          0.19257424399696974,
          0.14221029793269827,
          -0.4485148357347744,
          1.6374025795281855,
          0.6841728317997693,
          -0.017322450272675274,
          -0.03633402628948378,
          -0.9843056002897954,
          -0.12159711981969609,
          0.8898300886115205,
          0.45628354683276956,
          -1.9510971318746024,
          -0.8371636918338778,
          0.09539833514485238,
          0.28324876589139564,
          -1.2395243599937584,
          -0.2582661881268611,
          0.33490602467640884,
          0.3011126319208367,
          1.3587982887380043,
          -0.8971789321798538,
          1.2399857012513107,
          1.8471920092669718,
          -0.590793499772875,
          0.3491802131370271,
          -0.5029423118438096,
          0.6909343792906404,
          -0.08149344355010636,
          0.37353836019699316,
          1.467192601323016,
          -0.4744861243526767,
          -0.7830987478232658,
          -2.250940098471233,
          -0.1553485429616403,
          -1.314420830586314,
          0.17932020945463634,
          -0.9945582117459256,
          -2.480596106789873,
          -1.460780994346626,
          -1.8801848233676524,
          1.5471812918344445,
          -1.3017195315725127,
          -0.36354868052101413,
          0.6312216806022842,
          0.663191919138085,
          -1.0760839477001507,
          0.20959534877093133,
          0.707619767121964,
          -0.4293280246575133,
          -0.7969742896315202,
          -1.7154677664042581,
          0.4203414331908423,
          0.6432416443831857,
          -0.6446858177978191,
          1.0823043781144668
         ],
         "y": [
          0.979567659338645,
          0.9297536904848916,
          -1.5647720067632347,
          -1.138631973636623,
          -0.4287289904281765,
          -2.1087611541657028,
          1.5855325001870333,
          -1.5602521035556984,
          1.5224853977653907,
          -0.8121965008187808,
          -1.3149385625739256,
          -0.5868243407113155,
          -0.5584043050922068,
          1.024917263115243,
          0.9186207213500335,
          0.05186864678831949,
          -0.17599240470219765,
          0.0756044026778575,
          -0.7823834943646191,
          0.29273940925154474,
          0.6585636925791545,
          -1.1586584196209497,
          -2.42767283874712,
          -1.3039778105410484,
          0.63040916697084,
          -0.6249045978908176,
          -0.47452659888220267,
          0.5190171210384587,
          0.06722985579461976,
          -0.08931483284641957,
          1.0202141384929795,
          -2.0561726264112,
          -0.055803693798234404,
          -1.3346776548604264,
          -0.4315696702892866,
          0.3034758598912279,
          0.3222870800923197,
          -0.042530390712861306,
          -0.9223996830165622,
          0.12710887630328294,
          0.31752636514132354,
          -0.14396009446602945,
          -1.8834700878761006,
          0.12473566323224189,
          1.5842026416677246,
          0.24635578814683237,
          -0.056446383280591116,
          0.36131412954269077,
          -0.02486039386224461,
          -0.005447934891499861,
          0.7828451711523097,
          0.19511382903658073,
          0.036974381635946754,
          0.06970404930571535,
          -0.03997401924733949,
          0.5847405391101762,
          -0.003937572025311585,
          2.574042159265627,
          1.1518829286884167,
          -0.24185038555469457,
          0.6425151983742626,
          -0.6418952899728655,
          -1.0762340779757746,
          1.2555095921210089,
          -0.40150910468223655,
          -0.09537248245181125,
          -0.7347163752051489,
          -1.3341140739195578,
          -0.3732221791725925,
          0.645927639695506,
          1.490848484195162,
          0.8686318391898088,
          -1.3881762175725099,
          1.560470121995937,
          2.050369803016672,
          0.6114711079808532,
          0.04100914479664081,
          0.20343197174487537,
          -0.7008102684753817,
          0.32651605004569145,
          -1.6201963818823735,
          1.0989833083903093,
          -0.07403093245438791,
          -0.2023642726068433,
          -0.09460411689549329,
          -1.2185051715107555,
          -1.8063992995658007,
          -0.5068240179579497,
          -0.12449813093579866,
          -0.6447287020820451,
          -1.0795087042198832,
          -0.6497867335487825,
          0.575162252369365,
          0.5752971123607293,
          0.7461082518292771,
          0.8709663620523884,
          -0.4265983783290696,
          -0.04826657717503028,
          1.2289232436023858,
          -0.5201327238266056
         ],
         "z": [
          -17.689882969676106,
          11.217029567497548,
          -140.17597521240324,
          75.8602989909007,
          54.61642248893983,
          -25.427693776559153,
          25.031382488547223,
          137.75053701547625,
          85.12479247549814,
          -60.339055472151315,
          130.3072011843825,
          85.53374018796927,
          41.47529372089875,
          -25.501327844217794,
          225.02353496364154,
          200.72937745217547,
          62.90672378257929,
          -3.369161731044363,
          -152.88700563989173,
          -28.90177552021317,
          -5.729368969992734,
          28.883267035620072,
          -29.397510521887185,
          198.2464338723401,
          -102.92262187800395,
          148.21384457150606,
          -70.40621402364573,
          152.44693010476956,
          -47.14782280256635,
          -244.38797016775624,
          -94.3245770171894,
          -7.28198446917891,
          35.31310643347102,
          -88.364108532171,
          230.21093659939822,
          43.69154104567015,
          2.5486824557025116,
          -9.60440396401441,
          -95.77141856409065,
          -11.85927324605704,
          154.28108859452055,
          -20.029962750523286,
          -162.792877767473,
          117.50266240113436,
          50.56606601056836,
          43.1962662287598,
          123.1739265732949,
          15.020064882415262,
          77.19725904265525,
          56.63692210977252,
          10.253797224147911,
          30.50949293022203,
          -128.80575089394424,
          -2.8124774254001377,
          5.659710636271569,
          -117.96306644177399,
          -189.1040455834856,
          -85.2027655037868,
          -69.31833793491735,
          87.53680605890989,
          -57.90059586707677,
          64.69706231191371,
          33.48483872172592,
          32.85560130016453,
          189.58483204294123,
          -98.0602209196324,
          155.118078648277,
          161.53816199288315,
          -58.76327372563725,
          130.07833732152076,
          -55.455663324530825,
          97.37209817632522,
          -19.398519360302725,
          41.930658254583776,
          170.50999581683584,
          -49.68681195077354,
          -128.77309171801934,
          -258.77706416912804,
          -58.61103516004499,
          -65.7621373163151,
          -40.47688975893277,
          -119.3649018581797,
          -217.75575072408722,
          -77.62556275711027,
          -164.76076325634656,
          181.76212698284797,
          -159.95519598475082,
          -95.65907019343146,
          88.60605577517977,
          100.00518943451144,
          -41.056363666558454,
          -8.10436273468525,
          49.095991176813015,
          -52.060283320929045,
          -111.2758759601044,
          19.243079197940915,
          21.24016160135031,
          82.17397641813925,
          -41.80636879198704,
          156.7722536445802
         ]
        },
        {
         "type": "surface",
         "x": [
          -5,
          -3.888888888888889,
          -2.7777777777777777,
          -1.6666666666666665,
          -0.5555555555555554,
          0.5555555555555554,
          1.666666666666667,
          2.7777777777777786,
          3.8888888888888893,
          5
         ],
         "y": [
          -5,
          -3.888888888888889,
          -2.7777777777777777,
          -1.6666666666666665,
          -0.5555555555555554,
          0.5555555555555554,
          1.666666666666667,
          2.7777777777777786,
          3.8888888888888893,
          5
         ],
         "z": [
          [
           -505.9524650006331,
           -404.6866210921084,
           -303.4207771835839,
           -202.15493327505928,
           -100.88908936653469,
           0.3767545419898424,
           101.64259845051447,
           202.9084423590391,
           304.1742862675636,
           405.4401301760882
          ],
          [
           -493.19926029413307,
           -391.93341638560844,
           -290.66757247708387,
           -189.4017285685593,
           -88.1358846600347,
           13.129959248489833,
           114.39580315701446,
           215.66164706553909,
           316.9274909740636,
           418.19333488258815
          ],
          [
           -480.44605558763305,
           -379.1802116791084,
           -277.91436777058385,
           -176.6485238620593,
           -75.3826799535347,
           25.883163954989826,
           127.14900786351444,
           228.41485177203907,
           329.6806956805636,
           430.94653958908816
          ],
          [
           -467.69285088113304,
           -366.4270069726084,
           -265.1611630640839,
           -163.89531915555932,
           -62.62947524703472,
           38.63636866148981,
           139.90221257001443,
           241.16805647853906,
           342.4339003870636,
           443.6997442955882
          ],
          [
           -454.9396461746331,
           -353.67380226610845,
           -252.40795835758388,
           -151.14211444905933,
           -49.876270540534726,
           51.389573367989804,
           152.6554172765144,
           253.92126118503904,
           355.18710509356356,
           456.45294900208813
          ],
          [
           -442.18644146813307,
           -340.92059755960844,
           -239.6547536510839,
           -138.38890974255932,
           -37.12306583403474,
           64.1427780744898,
           165.40862198301443,
           266.67446589153906,
           367.9403098000636,
           469.20615370858815
          ],
          [
           -429.4332367616331,
           -328.1673928531085,
           -226.9015489445839,
           -125.63570503605933,
           -24.36986112753474,
           76.89598278098978,
           178.1618266895144,
           279.427670598039,
           380.69351450656353,
           481.9593584150881
          ],
          [
           -416.6800320551331,
           -315.41418814660847,
           -214.14834423808392,
           -112.88250032955935,
           -11.616656421034744,
           89.64918748748978,
           190.9150313960144,
           292.18087530453903,
           393.44671921306355,
           494.7125631215881
          ],
          [
           -403.9268273486331,
           -302.66098344010845,
           -201.39513953158394,
           -100.12929562305936,
           1.1365482854652411,
           102.40239219398977,
           203.66823610251438,
           304.93408001103904,
           406.19992391956356,
           507.46576782808813
          ],
          [
           -391.1736226421331,
           -289.9077787336085,
           -188.64193482508395,
           -87.37609091655938,
           13.889752991965228,
           115.15559690048975,
           216.42144080901437,
           317.687284717539,
           418.9531286260635,
           520.2189725345881
          ]
         ]
        }
       ],
       "layout": {
        "autosize": true,
        "legend": {
         "tracegroupgap": 0
        },
        "margin": {
         "t": 60
        },
        "scene": {
         "aspectmode": "auto",
         "aspectratio": {
          "x": 1,
          "y": 1,
          "z": 1
         },
         "camera": {
          "center": {
           "x": 0,
           "y": 0,
           "z": 0
          },
          "eye": {
           "x": 0.3390882081664069,
           "y": -1.70563521094516,
           "z": 0.7719819225550741
          },
          "projection": {
           "type": "perspective"
          },
          "up": {
           "x": 0,
           "y": 0,
           "z": 1
          }
         },
         "domain": {
          "x": [
           0,
           1
          ],
          "y": [
           0,
           1
          ]
         },
         "xaxis": {
          "title": {
           "text": "feature1"
          },
          "type": "linear"
         },
         "yaxis": {
          "title": {
           "text": "feature2"
          },
          "type": "linear"
         },
         "zaxis": {
          "title": {
           "text": "target"
          },
          "type": "linear"
         }
        },
        "template": {
         "data": {
          "bar": [
           {
            "error_x": {
             "color": "#2a3f5f"
            },
            "error_y": {
             "color": "#2a3f5f"
            },
            "marker": {
             "line": {
              "color": "#E5ECF6",
              "width": 0.5
             },
             "pattern": {
              "fillmode": "overlay",
              "size": 10,
              "solidity": 0.2
             }
            },
            "type": "bar"
           }
          ],
          "barpolar": [
           {
            "marker": {
             "line": {
              "color": "#E5ECF6",
              "width": 0.5
             },
             "pattern": {
              "fillmode": "overlay",
              "size": 10,
              "solidity": 0.2
             }
            },
            "type": "barpolar"
           }
          ],
          "carpet": [
           {
            "aaxis": {
             "endlinecolor": "#2a3f5f",
             "gridcolor": "white",
             "linecolor": "white",
             "minorgridcolor": "white",
             "startlinecolor": "#2a3f5f"
            },
            "baxis": {
             "endlinecolor": "#2a3f5f",
             "gridcolor": "white",
             "linecolor": "white",
             "minorgridcolor": "white",
             "startlinecolor": "#2a3f5f"
            },
            "type": "carpet"
           }
          ],
          "choropleth": [
           {
            "colorbar": {
             "outlinewidth": 0,
             "ticks": ""
            },
            "type": "choropleth"
           }
          ],
          "contour": [
           {
            "colorbar": {
             "outlinewidth": 0,
             "ticks": ""
            },
            "colorscale": [
             [
              0,
              "#0d0887"
             ],
             [
              0.1111111111111111,
              "#46039f"
             ],
             [
              0.2222222222222222,
              "#7201a8"
             ],
             [
              0.3333333333333333,
              "#9c179e"
             ],
             [
              0.4444444444444444,
              "#bd3786"
             ],
             [
              0.5555555555555556,
              "#d8576b"
             ],
             [
              0.6666666666666666,
              "#ed7953"
             ],
             [
              0.7777777777777778,
              "#fb9f3a"
             ],
             [
              0.8888888888888888,
              "#fdca26"
             ],
             [
              1,
              "#f0f921"
             ]
            ],
            "type": "contour"
           }
          ],
          "contourcarpet": [
           {
            "colorbar": {
             "outlinewidth": 0,
             "ticks": ""
            },
            "type": "contourcarpet"
           }
          ],
          "heatmap": [
           {
            "colorbar": {
             "outlinewidth": 0,
             "ticks": ""
            },
            "colorscale": [
             [
              0,
              "#0d0887"
             ],
             [
              0.1111111111111111,
              "#46039f"
             ],
             [
              0.2222222222222222,
              "#7201a8"
             ],
             [
              0.3333333333333333,
              "#9c179e"
             ],
             [
              0.4444444444444444,
              "#bd3786"
             ],
             [
              0.5555555555555556,
              "#d8576b"
             ],
             [
              0.6666666666666666,
              "#ed7953"
             ],
             [
              0.7777777777777778,
              "#fb9f3a"
             ],
             [
              0.8888888888888888,
              "#fdca26"
             ],
             [
              1,
              "#f0f921"
             ]
            ],
            "type": "heatmap"
           }
          ],
          "heatmapgl": [
           {
            "colorbar": {
             "outlinewidth": 0,
             "ticks": ""
            },
            "colorscale": [
             [
              0,
              "#0d0887"
             ],
             [
              0.1111111111111111,
              "#46039f"
             ],
             [
              0.2222222222222222,
              "#7201a8"
             ],
             [
              0.3333333333333333,
              "#9c179e"
             ],
             [
              0.4444444444444444,
              "#bd3786"
             ],
             [
              0.5555555555555556,
              "#d8576b"
             ],
             [
              0.6666666666666666,
              "#ed7953"
             ],
             [
              0.7777777777777778,
              "#fb9f3a"
             ],
             [
              0.8888888888888888,
              "#fdca26"
             ],
             [
              1,
              "#f0f921"
             ]
            ],
            "type": "heatmapgl"
           }
          ],
          "histogram": [
           {
            "marker": {
             "pattern": {
              "fillmode": "overlay",
              "size": 10,
              "solidity": 0.2
             }
            },
            "type": "histogram"
           }
          ],
          "histogram2d": [
           {
            "colorbar": {
             "outlinewidth": 0,
             "ticks": ""
            },
            "colorscale": [
             [
              0,
              "#0d0887"
             ],
             [
              0.1111111111111111,
              "#46039f"
             ],
             [
              0.2222222222222222,
              "#7201a8"
             ],
             [
              0.3333333333333333,
              "#9c179e"
             ],
             [
              0.4444444444444444,
              "#bd3786"
             ],
             [
              0.5555555555555556,
              "#d8576b"
             ],
             [
              0.6666666666666666,
              "#ed7953"
             ],
             [
              0.7777777777777778,
              "#fb9f3a"
             ],
             [
              0.8888888888888888,
              "#fdca26"
             ],
             [
              1,
              "#f0f921"
             ]
            ],
            "type": "histogram2d"
           }
          ],
          "histogram2dcontour": [
           {
            "colorbar": {
             "outlinewidth": 0,
             "ticks": ""
            },
            "colorscale": [
             [
              0,
              "#0d0887"
             ],
             [
              0.1111111111111111,
              "#46039f"
             ],
             [
              0.2222222222222222,
              "#7201a8"
             ],
             [
              0.3333333333333333,
              "#9c179e"
             ],
             [
              0.4444444444444444,
              "#bd3786"
             ],
             [
              0.5555555555555556,
              "#d8576b"
             ],
             [
              0.6666666666666666,
              "#ed7953"
             ],
             [
              0.7777777777777778,
              "#fb9f3a"
             ],
             [
              0.8888888888888888,
              "#fdca26"
             ],
             [
              1,
              "#f0f921"
             ]
            ],
            "type": "histogram2dcontour"
           }
          ],
          "mesh3d": [
           {
            "colorbar": {
             "outlinewidth": 0,
             "ticks": ""
            },
            "type": "mesh3d"
           }
          ],
          "parcoords": [
           {
            "line": {
             "colorbar": {
              "outlinewidth": 0,
              "ticks": ""
             }
            },
            "type": "parcoords"
           }
          ],
          "pie": [
           {
            "automargin": true,
            "type": "pie"
           }
          ],
          "scatter": [
           {
            "fillpattern": {
             "fillmode": "overlay",
             "size": 10,
             "solidity": 0.2
            },
            "type": "scatter"
           }
          ],
          "scatter3d": [
           {
            "line": {
             "colorbar": {
              "outlinewidth": 0,
              "ticks": ""
             }
            },
            "marker": {
             "colorbar": {
              "outlinewidth": 0,
              "ticks": ""
             }
            },
            "type": "scatter3d"
           }
          ],
          "scattercarpet": [
           {
            "marker": {
             "colorbar": {
              "outlinewidth": 0,
              "ticks": ""
             }
            },
            "type": "scattercarpet"
           }
          ],
          "scattergeo": [
           {
            "marker": {
             "colorbar": {
              "outlinewidth": 0,
              "ticks": ""
             }
            },
            "type": "scattergeo"
           }
          ],
          "scattergl": [
           {
            "marker": {
             "colorbar": {
              "outlinewidth": 0,
              "ticks": ""
             }
            },
            "type": "scattergl"
           }
          ],
          "scattermapbox": [
           {
            "marker": {
             "colorbar": {
              "outlinewidth": 0,
              "ticks": ""
             }
            },
            "type": "scattermapbox"
           }
          ],
          "scatterpolar": [
           {
            "marker": {
             "colorbar": {
              "outlinewidth": 0,
              "ticks": ""
             }
            },
            "type": "scatterpolar"
           }
          ],
          "scatterpolargl": [
           {
            "marker": {
             "colorbar": {
              "outlinewidth": 0,
              "ticks": ""
             }
            },
            "type": "scatterpolargl"
           }
          ],
          "scatterternary": [
           {
            "marker": {
             "colorbar": {
              "outlinewidth": 0,
              "ticks": ""
             }
            },
            "type": "scatterternary"
           }
          ],
          "surface": [
           {
            "colorbar": {
             "outlinewidth": 0,
             "ticks": ""
            },
            "colorscale": [
             [
              0,
              "#0d0887"
             ],
             [
              0.1111111111111111,
              "#46039f"
             ],
             [
              0.2222222222222222,
              "#7201a8"
             ],
             [
              0.3333333333333333,
              "#9c179e"
             ],
             [
              0.4444444444444444,
              "#bd3786"
             ],
             [
              0.5555555555555556,
              "#d8576b"
             ],
             [
              0.6666666666666666,
              "#ed7953"
             ],
             [
              0.7777777777777778,
              "#fb9f3a"
             ],
             [
              0.8888888888888888,
              "#fdca26"
             ],
             [
              1,
              "#f0f921"
             ]
            ],
            "type": "surface"
           }
          ],
          "table": [
           {
            "cells": {
             "fill": {
              "color": "#EBF0F8"
             },
             "line": {
              "color": "white"
             }
            },
            "header": {
             "fill": {
              "color": "#C8D4E3"
             },
             "line": {
              "color": "white"
             }
            },
            "type": "table"
           }
          ]
         },
         "layout": {
          "annotationdefaults": {
           "arrowcolor": "#2a3f5f",
           "arrowhead": 0,
           "arrowwidth": 1
          },
          "autotypenumbers": "strict",
          "coloraxis": {
           "colorbar": {
            "outlinewidth": 0,
            "ticks": ""
           }
          },
          "colorscale": {
           "diverging": [
            [
             0,
             "#8e0152"
            ],
            [
             0.1,
             "#c51b7d"
            ],
            [
             0.2,
             "#de77ae"
            ],
            [
             0.3,
             "#f1b6da"
            ],
            [
             0.4,
             "#fde0ef"
            ],
            [
             0.5,
             "#f7f7f7"
            ],
            [
             0.6,
             "#e6f5d0"
            ],
            [
             0.7,
             "#b8e186"
            ],
            [
             0.8,
             "#7fbc41"
            ],
            [
             0.9,
             "#4d9221"
            ],
            [
             1,
             "#276419"
            ]
           ],
           "sequential": [
            [
             0,
             "#0d0887"
            ],
            [
             0.1111111111111111,
             "#46039f"
            ],
            [
             0.2222222222222222,
             "#7201a8"
            ],
            [
             0.3333333333333333,
             "#9c179e"
            ],
            [
             0.4444444444444444,
             "#bd3786"
            ],
            [
             0.5555555555555556,
             "#d8576b"
            ],
            [
             0.6666666666666666,
             "#ed7953"
            ],
            [
             0.7777777777777778,
             "#fb9f3a"
            ],
            [
             0.8888888888888888,
             "#fdca26"
            ],
            [
             1,
             "#f0f921"
            ]
           ],
           "sequentialminus": [
            [
             0,
             "#0d0887"
            ],
            [
             0.1111111111111111,
             "#46039f"
            ],
            [
             0.2222222222222222,
             "#7201a8"
            ],
            [
             0.3333333333333333,
             "#9c179e"
            ],
            [
             0.4444444444444444,
             "#bd3786"
            ],
            [
             0.5555555555555556,
             "#d8576b"
            ],
            [
             0.6666666666666666,
             "#ed7953"
            ],
            [
             0.7777777777777778,
             "#fb9f3a"
            ],
            [
             0.8888888888888888,
             "#fdca26"
            ],
            [
             1,
             "#f0f921"
            ]
           ]
          },
          "colorway": [
           "#636efa",
           "#EF553B",
           "#00cc96",
           "#ab63fa",
           "#FFA15A",
           "#19d3f3",
           "#FF6692",
           "#B6E880",
           "#FF97FF",
           "#FECB52"
          ],
          "font": {
           "color": "#2a3f5f"
          },
          "geo": {
           "bgcolor": "white",
           "lakecolor": "white",
           "landcolor": "#E5ECF6",
           "showlakes": true,
           "showland": true,
           "subunitcolor": "white"
          },
          "hoverlabel": {
           "align": "left"
          },
          "hovermode": "closest",
          "mapbox": {
           "style": "light"
          },
          "paper_bgcolor": "white",
          "plot_bgcolor": "#E5ECF6",
          "polar": {
           "angularaxis": {
            "gridcolor": "white",
            "linecolor": "white",
            "ticks": ""
           },
           "bgcolor": "#E5ECF6",
           "radialaxis": {
            "gridcolor": "white",
            "linecolor": "white",
            "ticks": ""
           }
          },
          "scene": {
           "xaxis": {
            "backgroundcolor": "#E5ECF6",
            "gridcolor": "white",
            "gridwidth": 2,
            "linecolor": "white",
            "showbackground": true,
            "ticks": "",
            "zerolinecolor": "white"
           },
           "yaxis": {
            "backgroundcolor": "#E5ECF6",
            "gridcolor": "white",
            "gridwidth": 2,
            "linecolor": "white",
            "showbackground": true,
            "ticks": "",
            "zerolinecolor": "white"
           },
           "zaxis": {
            "backgroundcolor": "#E5ECF6",
            "gridcolor": "white",
            "gridwidth": 2,
            "linecolor": "white",
            "showbackground": true,
            "ticks": "",
            "zerolinecolor": "white"
           }
          },
          "shapedefaults": {
           "line": {
            "color": "#2a3f5f"
           }
          },
          "ternary": {
           "aaxis": {
            "gridcolor": "white",
            "linecolor": "white",
            "ticks": ""
           },
           "baxis": {
            "gridcolor": "white",
            "linecolor": "white",
            "ticks": ""
           },
           "bgcolor": "#E5ECF6",
           "caxis": {
            "gridcolor": "white",
            "linecolor": "white",
            "ticks": ""
           }
          },
          "title": {
           "x": 0.05
          },
          "xaxis": {
           "automargin": true,
           "gridcolor": "white",
           "linecolor": "white",
           "ticks": "",
           "title": {
            "standoff": 15
           },
           "zerolinecolor": "white",
           "zerolinewidth": 2
          },
          "yaxis": {
           "automargin": true,
           "gridcolor": "white",
           "linecolor": "white",
           "ticks": "",
           "title": {
            "standoff": 15
           },
           "zerolinecolor": "white",
           "zerolinewidth": 2
          }
         }
        }
       }
      },
      "image/png": "[encoded data removed]",
      "text/html": [
       "<div>                            <div id=\"95d02a7c-5843-443f-b920-87ddf7a5eac7\" class=\"plotly-graph-div\" style=\"height:525px; width:100%;\"></div>            <script type=\"text/javascript\">                require([\"plotly\"], function(Plotly) {                    window.PLOTLYENV=window.PLOTLYENV || {};                                    if (document.getElementById(\"95d02a7c-5843-443f-b920-87ddf7a5eac7\")) {                    Plotly.newPlot(                        \"95d02a7c-5843-443f-b920-87ddf7a5eac7\",                        [{\"hovertemplate\":\"feature1=%{x}<br>feature2=%{y}<br>target=%{z}<extra></extra>\",\"legendgroup\":\"\",\"marker\":{\"color\":\"#636efa\",\"symbol\":\"circle\"},\"mode\":\"markers\",\"name\":\"\",\"scene\":\"scene\",\"showlegend\":false,\"x\":[-0.4440496337998009,-0.7868282352089383,-1.0532791711934084,1.447611390199493,0.37542247725262595,-0.49895122507014067,-0.8930638431647839,1.2739006770659473,0.6598207271127499,0.532866651319453,0.8219499965038213,1.0639168003588682,0.05545523429398099,-0.1336161592444348,1.4598131078818075,1.5603791764419908,0.5103727786099477,0.12474652207130914,-1.5868000312031005,-0.3866957228194896,-1.1123539997374035,-0.10336916886792852,0.283671035277909,1.8715043824673594,-0.1901782187155892,1.014344465539797,-0.6671276264842011,0.9997046086337867,-1.193234285921333,-1.9431321403679416,-0.545409710800233,0.23605878496299365,0.1854473172144099,0.055572086177197624,1.2669747552834574,0.5021038020692165,0.07935263023082849,0.8889803976072105,-0.4538026201461644,-0.4741515848964618,0.1683049589614485,0.03003001351491267,-1.5321162237588006,1.7199036427710253,0.4579706415533503,0.19257424399696974,0.14221029793269827,-0.4485148357347744,1.6374025795281855,0.6841728317997693,-0.017322450272675274,-0.03633402628948378,-0.9843056002897954,-0.12159711981969609,0.8898300886115205,0.45628354683276956,-1.9510971318746024,-0.8371636918338778,0.09539833514485238,0.28324876589139564,-1.2395243599937584,-0.2582661881268611,0.33490602467640884,0.3011126319208367,1.3587982887380043,-0.8971789321798538,1.2399857012513107,1.8471920092669718,-0.590793499772875,0.3491802131370271,-0.5029423118438096,0.6909343792906404,-0.08149344355010636,0.37353836019699316,1.467192601323016,-0.4744861243526767,-0.7830987478232658,-2.250940098471233,-0.1553485429616403,-1.314420830586314,0.17932020945463634,-0.9945582117459256,-2.480596106789873,-1.460780994346626,-1.8801848233676524,1.5471812918344445,-1.3017195315725127,-0.36354868052101413,0.6312216806022842,0.663191919138085,-1.0760839477001507,0.20959534877093133,0.707619767121964,-0.4293280246575133,-0.7969742896315202,-1.7154677664042581,0.4203414331908423,0.6432416443831857,-0.6446858177978191,1.0823043781144668],\"y\":[0.979567659338645,0.9297536904848916,-1.5647720067632347,-1.138631973636623,-0.4287289904281765,-2.1087611541657028,1.5855325001870333,-1.5602521035556984,1.5224853977653907,-0.8121965008187808,-1.3149385625739256,-0.5868243407113155,-0.5584043050922068,1.024917263115243,0.9186207213500335,0.05186864678831949,-0.17599240470219765,0.0756044026778575,-0.7823834943646191,0.29273940925154474,0.6585636925791545,-1.1586584196209497,-2.42767283874712,-1.3039778105410484,0.63040916697084,-0.6249045978908176,-0.47452659888220267,0.5190171210384587,0.06722985579461976,-0.08931483284641957,1.0202141384929795,-2.0561726264112,-0.055803693798234404,-1.3346776548604264,-0.4315696702892866,0.3034758598912279,0.3222870800923197,-0.042530390712861306,-0.9223996830165622,0.12710887630328294,0.31752636514132354,-0.14396009446602945,-1.8834700878761006,0.12473566323224189,1.5842026416677246,0.24635578814683237,-0.056446383280591116,0.36131412954269077,-0.02486039386224461,-0.005447934891499861,0.7828451711523097,0.19511382903658073,0.036974381635946754,0.06970404930571535,-0.03997401924733949,0.5847405391101762,-0.003937572025311585,2.574042159265627,1.1518829286884167,-0.24185038555469457,0.6425151983742626,-0.6418952899728655,-1.0762340779757746,1.2555095921210089,-0.40150910468223655,-0.09537248245181125,-0.7347163752051489,-1.3341140739195578,-0.3732221791725925,0.645927639695506,1.490848484195162,0.8686318391898088,-1.3881762175725099,1.560470121995937,2.050369803016672,0.6114711079808532,0.04100914479664081,0.20343197174487537,-0.7008102684753817,0.32651605004569145,-1.6201963818823735,1.0989833083903093,-0.07403093245438791,-0.2023642726068433,-0.09460411689549329,-1.2185051715107555,-1.8063992995658007,-0.5068240179579497,-0.12449813093579866,-0.6447287020820451,-1.0795087042198832,-0.6497867335487825,0.575162252369365,0.5752971123607293,0.7461082518292771,0.8709663620523884,-0.4265983783290696,-0.04826657717503028,1.2289232436023858,-0.5201327238266056],\"z\":[-17.689882969676106,11.217029567497548,-140.17597521240324,75.8602989909007,54.61642248893983,-25.427693776559153,25.031382488547223,137.75053701547625,85.12479247549814,-60.339055472151315,130.3072011843825,85.53374018796927,41.47529372089875,-25.501327844217794,225.02353496364154,200.72937745217547,62.90672378257929,-3.369161731044363,-152.88700563989173,-28.90177552021317,-5.729368969992734,28.883267035620072,-29.397510521887185,198.2464338723401,-102.92262187800395,148.21384457150606,-70.40621402364573,152.44693010476956,-47.14782280256635,-244.38797016775624,-94.3245770171894,-7.28198446917891,35.31310643347102,-88.364108532171,230.21093659939822,43.69154104567015,2.5486824557025116,-9.60440396401441,-95.77141856409065,-11.85927324605704,154.28108859452055,-20.029962750523286,-162.792877767473,117.50266240113436,50.56606601056836,43.1962662287598,123.1739265732949,15.020064882415262,77.19725904265525,56.63692210977252,10.253797224147911,30.50949293022203,-128.80575089394424,-2.8124774254001377,5.659710636271569,-117.96306644177399,-189.1040455834856,-85.2027655037868,-69.31833793491735,87.53680605890989,-57.90059586707677,64.69706231191371,33.48483872172592,32.85560130016453,189.58483204294123,-98.0602209196324,155.118078648277,161.53816199288315,-58.76327372563725,130.07833732152076,-55.455663324530825,97.37209817632522,-19.398519360302725,41.930658254583776,170.50999581683584,-49.68681195077354,-128.77309171801934,-258.77706416912804,-58.61103516004499,-65.7621373163151,-40.47688975893277,-119.3649018581797,-217.75575072408722,-77.62556275711027,-164.76076325634656,181.76212698284797,-159.95519598475082,-95.65907019343146,88.60605577517977,100.00518943451144,-41.056363666558454,-8.10436273468525,49.095991176813015,-52.060283320929045,-111.2758759601044,19.243079197940915,21.24016160135031,82.17397641813925,-41.80636879198704,156.7722536445802],\"type\":\"scatter3d\"},{\"x\":[-5.0,-3.888888888888889,-2.7777777777777777,-1.6666666666666665,-0.5555555555555554,0.5555555555555554,1.666666666666667,2.7777777777777786,3.8888888888888893,5.0],\"y\":[-5.0,-3.888888888888889,-2.7777777777777777,-1.6666666666666665,-0.5555555555555554,0.5555555555555554,1.666666666666667,2.7777777777777786,3.8888888888888893,5.0],\"z\":[[-505.9524650006331,-404.6866210921084,-303.4207771835839,-202.15493327505928,-100.88908936653469,0.3767545419898424,101.64259845051447,202.9084423590391,304.1742862675636,405.4401301760882],[-493.19926029413307,-391.93341638560844,-290.66757247708387,-189.4017285685593,-88.1358846600347,13.129959248489833,114.39580315701446,215.66164706553909,316.9274909740636,418.19333488258815],[-480.44605558763305,-379.1802116791084,-277.91436777058385,-176.6485238620593,-75.3826799535347,25.883163954989826,127.14900786351444,228.41485177203907,329.6806956805636,430.94653958908816],[-467.69285088113304,-366.4270069726084,-265.1611630640839,-163.89531915555932,-62.62947524703472,38.63636866148981,139.90221257001443,241.16805647853906,342.4339003870636,443.6997442955882],[-454.9396461746331,-353.67380226610845,-252.40795835758388,-151.14211444905933,-49.876270540534726,51.389573367989804,152.6554172765144,253.92126118503904,355.18710509356356,456.45294900208813],[-442.18644146813307,-340.92059755960844,-239.6547536510839,-138.38890974255932,-37.12306583403474,64.1427780744898,165.40862198301443,266.67446589153906,367.9403098000636,469.20615370858815],[-429.4332367616331,-328.1673928531085,-226.9015489445839,-125.63570503605933,-24.36986112753474,76.89598278098978,178.1618266895144,279.427670598039,380.69351450656353,481.9593584150881],[-416.6800320551331,-315.41418814660847,-214.14834423808392,-112.88250032955935,-11.616656421034744,89.64918748748978,190.9150313960144,292.18087530453903,393.44671921306355,494.7125631215881],[-403.9268273486331,-302.66098344010845,-201.39513953158394,-100.12929562305936,1.1365482854652411,102.40239219398977,203.66823610251438,304.93408001103904,406.19992391956356,507.46576782808813],[-391.1736226421331,-289.9077787336085,-188.64193482508395,-87.37609091655938,13.889752991965228,115.15559690048975,216.42144080901437,317.687284717539,418.9531286260635,520.2189725345881]],\"type\":\"surface\"}],                        {\"template\":{\"data\":{\"histogram2dcontour\":[{\"type\":\"histogram2dcontour\",\"colorbar\":{\"outlinewidth\":0,\"ticks\":\"\"},\"colorscale\":[[0.0,\"#0d0887\"],[0.1111111111111111,\"#46039f\"],[0.2222222222222222,\"#7201a8\"],[0.3333333333333333,\"#9c179e\"],[0.4444444444444444,\"#bd3786\"],[0.5555555555555556,\"#d8576b\"],[0.6666666666666666,\"#ed7953\"],[0.7777777777777778,\"#fb9f3a\"],[0.8888888888888888,\"#fdca26\"],[1.0,\"#f0f921\"]]}],\"choropleth\":[{\"type\":\"choropleth\",\"colorbar\":{\"outlinewidth\":0,\"ticks\":\"\"}}],\"histogram2d\":[{\"type\":\"histogram2d\",\"colorbar\":{\"outlinewidth\":0,\"ticks\":\"\"},\"colorscale\":[[0.0,\"#0d0887\"],[0.1111111111111111,\"#46039f\"],[0.2222222222222222,\"#7201a8\"],[0.3333333333333333,\"#9c179e\"],[0.4444444444444444,\"#bd3786\"],[0.5555555555555556,\"#d8576b\"],[0.6666666666666666,\"#ed7953\"],[0.7777777777777778,\"#fb9f3a\"],[0.8888888888888888,\"#fdca26\"],[1.0,\"#f0f921\"]]}],\"heatmap\":[{\"type\":\"heatmap\",\"colorbar\":{\"outlinewidth\":0,\"ticks\":\"\"},\"colorscale\":[[0.0,\"#0d0887\"],[0.1111111111111111,\"#46039f\"],[0.2222222222222222,\"#7201a8\"],[0.3333333333333333,\"#9c179e\"],[0.4444444444444444,\"#bd3786\"],[0.5555555555555556,\"#d8576b\"],[0.6666666666666666,\"#ed7953\"],[0.7777777777777778,\"#fb9f3a\"],[0.8888888888888888,\"#fdca26\"],[1.0,\"#f0f921\"]]}],\"heatmapgl\":[{\"type\":\"heatmapgl\",\"colorbar\":{\"outlinewidth\":0,\"ticks\":\"\"},\"colorscale\":[[0.0,\"#0d0887\"],[0.1111111111111111,\"#46039f\"],[0.2222222222222222,\"#7201a8\"],[0.3333333333333333,\"#9c179e\"],[0.4444444444444444,\"#bd3786\"],[0.5555555555555556,\"#d8576b\"],[0.6666666666666666,\"#ed7953\"],[0.7777777777777778,\"#fb9f3a\"],[0.8888888888888888,\"#fdca26\"],[1.0,\"#f0f921\"]]}],\"contourcarpet\":[{\"type\":\"contourcarpet\",\"colorbar\":{\"outlinewidth\":0,\"ticks\":\"\"}}],\"contour\":[{\"type\":\"contour\",\"colorbar\":{\"outlinewidth\":0,\"ticks\":\"\"},\"colorscale\":[[0.0,\"#0d0887\"],[0.1111111111111111,\"#46039f\"],[0.2222222222222222,\"#7201a8\"],[0.3333333333333333,\"#9c179e\"],[0.4444444444444444,\"#bd3786\"],[0.5555555555555556,\"#d8576b\"],[0.6666666666666666,\"#ed7953\"],[0.7777777777777778,\"#fb9f3a\"],[0.8888888888888888,\"#fdca26\"],[1.0,\"#f0f921\"]]}],\"surface\":[{\"type\":\"surface\",\"colorbar\":{\"outlinewidth\":0,\"ticks\":\"\"},\"colorscale\":[[0.0,\"#0d0887\"],[0.1111111111111111,\"#46039f\"],[0.2222222222222222,\"#7201a8\"],[0.3333333333333333,\"#9c179e\"],[0.4444444444444444,\"#bd3786\"],[0.5555555555555556,\"#d8576b\"],[0.6666666666666666,\"#ed7953\"],[0.7777777777777778,\"#fb9f3a\"],[0.8888888888888888,\"#fdca26\"],[1.0,\"#f0f921\"]]}],\"mesh3d\":[{\"type\":\"mesh3d\",\"colorbar\":{\"outlinewidth\":0,\"ticks\":\"\"}}],\"scatter\":[{\"fillpattern\":{\"fillmode\":\"overlay\",\"size\":10,\"solidity\":0.2},\"type\":\"scatter\"}],\"parcoords\":[{\"type\":\"parcoords\",\"line\":{\"colorbar\":{\"outlinewidth\":0,\"ticks\":\"\"}}}],\"scatterpolargl\":[{\"type\":\"scatterpolargl\",\"marker\":{\"colorbar\":{\"outlinewidth\":0,\"ticks\":\"\"}}}],\"bar\":[{\"error_x\":{\"color\":\"#2a3f5f\"},\"error_y\":{\"color\":\"#2a3f5f\"},\"marker\":{\"line\":{\"color\":\"#E5ECF6\",\"width\":0.5},\"pattern\":{\"fillmode\":\"overlay\",\"size\":10,\"solidity\":0.2}},\"type\":\"bar\"}],\"scattergeo\":[{\"type\":\"scattergeo\",\"marker\":{\"colorbar\":{\"outlinewidth\":0,\"ticks\":\"\"}}}],\"scatterpolar\":[{\"type\":\"scatterpolar\",\"marker\":{\"colorbar\":{\"outlinewidth\":0,\"ticks\":\"\"}}}],\"histogram\":[{\"marker\":{\"pattern\":{\"fillmode\":\"overlay\",\"size\":10,\"solidity\":0.2}},\"type\":\"histogram\"}],\"scattergl\":[{\"type\":\"scattergl\",\"marker\":{\"colorbar\":{\"outlinewidth\":0,\"ticks\":\"\"}}}],\"scatter3d\":[{\"type\":\"scatter3d\",\"line\":{\"colorbar\":{\"outlinewidth\":0,\"ticks\":\"\"}},\"marker\":{\"colorbar\":{\"outlinewidth\":0,\"ticks\":\"\"}}}],\"scattermapbox\":[{\"type\":\"scattermapbox\",\"marker\":{\"colorbar\":{\"outlinewidth\":0,\"ticks\":\"\"}}}],\"scatterternary\":[{\"type\":\"scatterternary\",\"marker\":{\"colorbar\":{\"outlinewidth\":0,\"ticks\":\"\"}}}],\"scattercarpet\":[{\"type\":\"scattercarpet\",\"marker\":{\"colorbar\":{\"outlinewidth\":0,\"ticks\":\"\"}}}],\"carpet\":[{\"aaxis\":{\"endlinecolor\":\"#2a3f5f\",\"gridcolor\":\"white\",\"linecolor\":\"white\",\"minorgridcolor\":\"white\",\"startlinecolor\":\"#2a3f5f\"},\"baxis\":{\"endlinecolor\":\"#2a3f5f\",\"gridcolor\":\"white\",\"linecolor\":\"white\",\"minorgridcolor\":\"white\",\"startlinecolor\":\"#2a3f5f\"},\"type\":\"carpet\"}],\"table\":[{\"cells\":{\"fill\":{\"color\":\"#EBF0F8\"},\"line\":{\"color\":\"white\"}},\"header\":{\"fill\":{\"color\":\"#C8D4E3\"},\"line\":{\"color\":\"white\"}},\"type\":\"table\"}],\"barpolar\":[{\"marker\":{\"line\":{\"color\":\"#E5ECF6\",\"width\":0.5},\"pattern\":{\"fillmode\":\"overlay\",\"size\":10,\"solidity\":0.2}},\"type\":\"barpolar\"}],\"pie\":[{\"automargin\":true,\"type\":\"pie\"}]},\"layout\":{\"autotypenumbers\":\"strict\",\"colorway\":[\"#636efa\",\"#EF553B\",\"#00cc96\",\"#ab63fa\",\"#FFA15A\",\"#19d3f3\",\"#FF6692\",\"#B6E880\",\"#FF97FF\",\"#FECB52\"],\"font\":{\"color\":\"#2a3f5f\"},\"hovermode\":\"closest\",\"hoverlabel\":{\"align\":\"left\"},\"paper_bgcolor\":\"white\",\"plot_bgcolor\":\"#E5ECF6\",\"polar\":{\"bgcolor\":\"#E5ECF6\",\"angularaxis\":{\"gridcolor\":\"white\",\"linecolor\":\"white\",\"ticks\":\"\"},\"radialaxis\":{\"gridcolor\":\"white\",\"linecolor\":\"white\",\"ticks\":\"\"}},\"ternary\":{\"bgcolor\":\"#E5ECF6\",\"aaxis\":{\"gridcolor\":\"white\",\"linecolor\":\"white\",\"ticks\":\"\"},\"baxis\":{\"gridcolor\":\"white\",\"linecolor\":\"white\",\"ticks\":\"\"},\"caxis\":{\"gridcolor\":\"white\",\"linecolor\":\"white\",\"ticks\":\"\"}},\"coloraxis\":{\"colorbar\":{\"outlinewidth\":0,\"ticks\":\"\"}},\"colorscale\":{\"sequential\":[[0.0,\"#0d0887\"],[0.1111111111111111,\"#46039f\"],[0.2222222222222222,\"#7201a8\"],[0.3333333333333333,\"#9c179e\"],[0.4444444444444444,\"#bd3786\"],[0.5555555555555556,\"#d8576b\"],[0.6666666666666666,\"#ed7953\"],[0.7777777777777778,\"#fb9f3a\"],[0.8888888888888888,\"#fdca26\"],[1.0,\"#f0f921\"]],\"sequentialminus\":[[0.0,\"#0d0887\"],[0.1111111111111111,\"#46039f\"],[0.2222222222222222,\"#7201a8\"],[0.3333333333333333,\"#9c179e\"],[0.4444444444444444,\"#bd3786\"],[0.5555555555555556,\"#d8576b\"],[0.6666666666666666,\"#ed7953\"],[0.7777777777777778,\"#fb9f3a\"],[0.8888888888888888,\"#fdca26\"],[1.0,\"#f0f921\"]],\"diverging\":[[0,\"#8e0152\"],[0.1,\"#c51b7d\"],[0.2,\"#de77ae\"],[0.3,\"#f1b6da\"],[0.4,\"#fde0ef\"],[0.5,\"#f7f7f7\"],[0.6,\"#e6f5d0\"],[0.7,\"#b8e186\"],[0.8,\"#7fbc41\"],[0.9,\"#4d9221\"],[1,\"#276419\"]]},\"xaxis\":{\"gridcolor\":\"white\",\"linecolor\":\"white\",\"ticks\":\"\",\"title\":{\"standoff\":15},\"zerolinecolor\":\"white\",\"automargin\":true,\"zerolinewidth\":2},\"yaxis\":{\"gridcolor\":\"white\",\"linecolor\":\"white\",\"ticks\":\"\",\"title\":{\"standoff\":15},\"zerolinecolor\":\"white\",\"automargin\":true,\"zerolinewidth\":2},\"scene\":{\"xaxis\":{\"backgroundcolor\":\"#E5ECF6\",\"gridcolor\":\"white\",\"linecolor\":\"white\",\"showbackground\":true,\"ticks\":\"\",\"zerolinecolor\":\"white\",\"gridwidth\":2},\"yaxis\":{\"backgroundcolor\":\"#E5ECF6\",\"gridcolor\":\"white\",\"linecolor\":\"white\",\"showbackground\":true,\"ticks\":\"\",\"zerolinecolor\":\"white\",\"gridwidth\":2},\"zaxis\":{\"backgroundcolor\":\"#E5ECF6\",\"gridcolor\":\"white\",\"linecolor\":\"white\",\"showbackground\":true,\"ticks\":\"\",\"zerolinecolor\":\"white\",\"gridwidth\":2}},\"shapedefaults\":{\"line\":{\"color\":\"#2a3f5f\"}},\"annotationdefaults\":{\"arrowcolor\":\"#2a3f5f\",\"arrowhead\":0,\"arrowwidth\":1},\"geo\":{\"bgcolor\":\"white\",\"landcolor\":\"#E5ECF6\",\"subunitcolor\":\"white\",\"showland\":true,\"showlakes\":true,\"lakecolor\":\"white\"},\"title\":{\"x\":0.05},\"mapbox\":{\"style\":\"light\"}}},\"scene\":{\"domain\":{\"x\":[0.0,1.0],\"y\":[0.0,1.0]},\"xaxis\":{\"title\":{\"text\":\"feature1\"}},\"yaxis\":{\"title\":{\"text\":\"feature2\"}},\"zaxis\":{\"title\":{\"text\":\"target\"}}},\"legend\":{\"tracegroupgap\":0},\"margin\":{\"t\":60}},                        {\"responsive\": true}                    ).then(function(){\n",
       "                            \n",
       "var gd = document.getElementById('95d02a7c-5843-443f-b920-87ddf7a5eac7');\n",
       "var x = new MutationObserver(function (mutations, observer) {{\n",
       "        var display = window.getComputedStyle(gd).display;\n",
       "        if (!display || display === 'none') {{\n",
       "            console.log([gd, 'removed!']);\n",
       "            Plotly.purge(gd);\n",
       "            observer.disconnect();\n",
       "        }}\n",
       "}});\n",
       "\n",
       "// Listen for the removal of the full notebook cells\n",
       "var notebookContainer = gd.closest('#notebook-container');\n",
       "if (notebookContainer) {{\n",
       "    x.observe(notebookContainer, {childList: true});\n",
       "}}\n",
       "\n",
       "// Listen for the clearing of the current output cell\n",
       "var outputEl = gd.closest('.output');\n",
       "if (outputEl) {{\n",
       "    x.observe(outputEl, {childList: true});\n",
       "}}\n",
       "\n",
       "                        })                };                });            </script>        </div>"
      ]
     },
     "metadata": {},
     "output_type": "display_data"
    }
   ],
   "source": [
    "fig1=px.scatter_3d(df,x='feature1',y='feature2',z='target')\n",
    "fig1.add_trace(go.Surface(x=x,y=y,z=z))\n",
    "fig1.show()"
   ]
  },
  {
   "cell_type": "code",
   "execution_count": 33,
   "id": "b5a9d773-7534-4b55-8d4a-42d2b5d76d25",
   "metadata": {},
   "outputs": [
    {
     "data": {
      "text/plain": [
       "array([91.13925952, 11.47788424])"
      ]
     },
     "execution_count": 33,
     "metadata": {},
     "output_type": "execute_result"
    }
   ],
   "source": [
    "lr.coef_    # beta 1 and beta 2"
   ]
  },
  {
   "cell_type": "code",
   "execution_count": 32,
   "id": "a6e72385-6b90-48f2-b754-8cb897a62f66",
   "metadata": {},
   "outputs": [
    {
     "data": {
      "text/plain": [
       "7.133253766977535"
      ]
     },
     "execution_count": 32,
     "metadata": {},
     "output_type": "execute_result"
    }
   ],
   "source": [
    "lr.intercept_   #beta 0"
   ]
  },
  {
   "cell_type": "code",
   "execution_count": null,
   "id": "462028d6-aaf7-4b30-8c0e-9d064bec121c",
   "metadata": {},
   "outputs": [],
   "source": []
  }
 ],
 "metadata": {
  "kernelspec": {
   "display_name": "Python 3 (ipykernel)",
   "language": "python",
   "name": "python3"
  },
  "language_info": {
   "codemirror_mode": {
    "name": "ipython",
    "version": 3
   },
   "file_extension": ".py",
   "mimetype": "text/x-python",
   "name": "python",
   "nbconvert_exporter": "python",
   "pygments_lexer": "ipython3",
   "version": "3.11.5"
  }
 },
 "nbformat": 4,
 "nbformat_minor": 5
}
