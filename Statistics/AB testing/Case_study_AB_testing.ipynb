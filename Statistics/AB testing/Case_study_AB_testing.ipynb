{
 "cells": [
  {
   "cell_type": "markdown",
   "id": "dccf3b56-aa94-4b02-8989-d796e0b16cc9",
   "metadata": {},
   "source": [
    "# Importing libraries"
   ]
  },
  {
   "cell_type": "code",
   "execution_count": 1,
   "id": "c7c6b56d-b232-419f-b4f1-4bda6d623738",
   "metadata": {},
   "outputs": [],
   "source": [
    "import numpy as np\n",
    "import pandas as pd\n",
    "import matplotlib.pyplot as plt\n",
    "import seaborn as sns\n",
    "from scipy.stats import norm"
   ]
  },
  {
   "cell_type": "markdown",
   "id": "a39d5ac9-d960-4c17-8c04-22dc9007d529",
   "metadata": {},
   "source": [
    "<img src=\"ab_test.png\" width='700' height='500' />"
   ]
  },
  {
   "cell_type": "markdown",
   "id": "b6109c4f-e586-4b42-8f55-64f02d1242f4",
   "metadata": {},
   "source": [
    "# Hypothesis"
   ]
  },
  {
   "cell_type": "markdown",
   "id": "659e3245-a945-42c6-9f07-efacfcb096bb",
   "metadata": {},
   "source": [
    "![hypothesis](Hypothesis.png)"
   ]
  },
  {
   "cell_type": "markdown",
   "id": "6e0e82e4-5cc6-4119-9ce1-49d417cb2258",
   "metadata": {},
   "source": [
    "# Loading our CTR data for AB test "
   ]
  },
  {
   "cell_type": "code",
   "execution_count": 2,
   "id": "bbc2bcfd-f264-403b-b01c-d1f51bcafe09",
   "metadata": {},
   "outputs": [],
   "source": [
    "# loading the csv file\n",
    "df_ab_test=pd.read_csv('ab_test_click_data.csv')"
   ]
  },
  {
   "cell_type": "code",
   "execution_count": 3,
   "id": "3a432614-d81d-4736-965f-60d9dda5d4da",
   "metadata": {},
   "outputs": [
    {
     "data": {
      "text/html": [
       "<div>\n",
       "<style scoped>\n",
       "    .dataframe tbody tr th:only-of-type {\n",
       "        vertical-align: middle;\n",
       "    }\n",
       "\n",
       "    .dataframe tbody tr th {\n",
       "        vertical-align: top;\n",
       "    }\n",
       "\n",
       "    .dataframe thead th {\n",
       "        text-align: right;\n",
       "    }\n",
       "</style>\n",
       "<table border=\"1\" class=\"dataframe\">\n",
       "  <thead>\n",
       "    <tr style=\"text-align: right;\">\n",
       "      <th></th>\n",
       "      <th>user_id</th>\n",
       "      <th>click</th>\n",
       "      <th>group</th>\n",
       "      <th>timestamp</th>\n",
       "    </tr>\n",
       "  </thead>\n",
       "  <tbody>\n",
       "    <tr>\n",
       "      <th>0</th>\n",
       "      <td>1</td>\n",
       "      <td>1</td>\n",
       "      <td>exp</td>\n",
       "      <td>2024-01-01 00:00:00</td>\n",
       "    </tr>\n",
       "    <tr>\n",
       "      <th>1</th>\n",
       "      <td>2</td>\n",
       "      <td>0</td>\n",
       "      <td>exp</td>\n",
       "      <td>2024-01-01 00:01:00</td>\n",
       "    </tr>\n",
       "    <tr>\n",
       "      <th>2</th>\n",
       "      <td>3</td>\n",
       "      <td>1</td>\n",
       "      <td>exp</td>\n",
       "      <td>2024-01-01 00:02:00</td>\n",
       "    </tr>\n",
       "    <tr>\n",
       "      <th>3</th>\n",
       "      <td>4</td>\n",
       "      <td>0</td>\n",
       "      <td>exp</td>\n",
       "      <td>2024-01-01 00:03:00</td>\n",
       "    </tr>\n",
       "    <tr>\n",
       "      <th>4</th>\n",
       "      <td>5</td>\n",
       "      <td>1</td>\n",
       "      <td>exp</td>\n",
       "      <td>2024-01-01 00:04:00</td>\n",
       "    </tr>\n",
       "  </tbody>\n",
       "</table>\n",
       "</div>"
      ],
      "text/plain": [
       "   user_id  click group            timestamp\n",
       "0        1      1   exp  2024-01-01 00:00:00\n",
       "1        2      0   exp  2024-01-01 00:01:00\n",
       "2        3      1   exp  2024-01-01 00:02:00\n",
       "3        4      0   exp  2024-01-01 00:03:00\n",
       "4        5      1   exp  2024-01-01 00:04:00"
      ]
     },
     "execution_count": 3,
     "metadata": {},
     "output_type": "execute_result"
    }
   ],
   "source": [
    "# display first few row for data to see the data\n",
    "df_ab_test.head()"
   ]
  },
  {
   "cell_type": "code",
   "execution_count": 4,
   "id": "a6700bf3-8a83-4533-b64f-06682b707b55",
   "metadata": {},
   "outputs": [
    {
     "data": {
      "text/html": [
       "<div>\n",
       "<style scoped>\n",
       "    .dataframe tbody tr th:only-of-type {\n",
       "        vertical-align: middle;\n",
       "    }\n",
       "\n",
       "    .dataframe tbody tr th {\n",
       "        vertical-align: top;\n",
       "    }\n",
       "\n",
       "    .dataframe thead th {\n",
       "        text-align: right;\n",
       "    }\n",
       "</style>\n",
       "<table border=\"1\" class=\"dataframe\">\n",
       "  <thead>\n",
       "    <tr style=\"text-align: right;\">\n",
       "      <th></th>\n",
       "      <th>user_id</th>\n",
       "      <th>click</th>\n",
       "    </tr>\n",
       "  </thead>\n",
       "  <tbody>\n",
       "    <tr>\n",
       "      <th>count</th>\n",
       "      <td>20000.00</td>\n",
       "      <td>20000.00</td>\n",
       "    </tr>\n",
       "    <tr>\n",
       "      <th>mean</th>\n",
       "      <td>10000.50</td>\n",
       "      <td>0.41</td>\n",
       "    </tr>\n",
       "    <tr>\n",
       "      <th>std</th>\n",
       "      <td>5773.65</td>\n",
       "      <td>0.49</td>\n",
       "    </tr>\n",
       "    <tr>\n",
       "      <th>min</th>\n",
       "      <td>1.00</td>\n",
       "      <td>0.00</td>\n",
       "    </tr>\n",
       "    <tr>\n",
       "      <th>25%</th>\n",
       "      <td>5000.75</td>\n",
       "      <td>0.00</td>\n",
       "    </tr>\n",
       "    <tr>\n",
       "      <th>50%</th>\n",
       "      <td>10000.50</td>\n",
       "      <td>0.00</td>\n",
       "    </tr>\n",
       "    <tr>\n",
       "      <th>75%</th>\n",
       "      <td>15000.25</td>\n",
       "      <td>1.00</td>\n",
       "    </tr>\n",
       "    <tr>\n",
       "      <th>max</th>\n",
       "      <td>20000.00</td>\n",
       "      <td>1.00</td>\n",
       "    </tr>\n",
       "  </tbody>\n",
       "</table>\n",
       "</div>"
      ],
      "text/plain": [
       "        user_id     click\n",
       "count  20000.00  20000.00\n",
       "mean   10000.50      0.41\n",
       "std     5773.65      0.49\n",
       "min        1.00      0.00\n",
       "25%     5000.75      0.00\n",
       "50%    10000.50      0.00\n",
       "75%    15000.25      1.00\n",
       "max    20000.00      1.00"
      ]
     },
     "execution_count": 4,
     "metadata": {},
     "output_type": "execute_result"
    }
   ],
   "source": [
    "round(df_ab_test.describe(),2)"
   ]
  },
  {
   "cell_type": "code",
   "execution_count": 5,
   "id": "2888b422-a72a-4983-a775-fcf786480db4",
   "metadata": {},
   "outputs": [
    {
     "data": {
      "text/html": [
       "<div>\n",
       "<style scoped>\n",
       "    .dataframe tbody tr th:only-of-type {\n",
       "        vertical-align: middle;\n",
       "    }\n",
       "\n",
       "    .dataframe tbody tr th {\n",
       "        vertical-align: top;\n",
       "    }\n",
       "\n",
       "    .dataframe thead th {\n",
       "        text-align: right;\n",
       "    }\n",
       "</style>\n",
       "<table border=\"1\" class=\"dataframe\">\n",
       "  <thead>\n",
       "    <tr style=\"text-align: right;\">\n",
       "      <th></th>\n",
       "      <th>user_id</th>\n",
       "      <th>click</th>\n",
       "    </tr>\n",
       "    <tr>\n",
       "      <th>group</th>\n",
       "      <th></th>\n",
       "      <th></th>\n",
       "    </tr>\n",
       "  </thead>\n",
       "  <tbody>\n",
       "    <tr>\n",
       "      <th>con</th>\n",
       "      <td>150005000</td>\n",
       "      <td>1989</td>\n",
       "    </tr>\n",
       "    <tr>\n",
       "      <th>exp</th>\n",
       "      <td>50005000</td>\n",
       "      <td>6116</td>\n",
       "    </tr>\n",
       "  </tbody>\n",
       "</table>\n",
       "</div>"
      ],
      "text/plain": [
       "         user_id  click\n",
       "group                  \n",
       "con    150005000   1989\n",
       "exp     50005000   6116"
      ]
     },
     "execution_count": 5,
     "metadata": {},
     "output_type": "execute_result"
    }
   ],
   "source": [
    "df_ab_test.groupby('group').sum('click')"
   ]
  },
  {
   "cell_type": "markdown",
   "id": "919e2b18-9ae6-4b8a-b23c-1b3ed75d48c9",
   "metadata": {},
   "source": [
    "### A simple bar chart showing the total clicks versus no-clicks in each group can provide a clear visual comparison of user engagement"
   ]
  },
  {
   "cell_type": "code",
   "execution_count": 6,
   "id": "ad82a2cb-d70c-4321-aea9-c669a16dc02a",
   "metadata": {},
   "outputs": [
    {
     "data": {
      "image/png": "[encoded data removed]",
      "text/plain": [
       "<Figure size 1000x600 with 1 Axes>"
      ]
     },
     "metadata": {},
     "output_type": "display_data"
    }
   ],
   "source": [
    "# custom pallete\n",
    "palette={0:'yellow',1:'black'}  # assuming 0 is for no-click and 1 for click\n",
    "\n",
    "# plotting the click distribution for each group with the custom colors\n",
    "plt.figure(figsize=(10,6))\n",
    "ax=sns.countplot(x='group',hue='click',data=df_ab_test,palette=palette)\n",
    "plt.title('Click distribution in Experiment and Control Groups')\n",
    "plt.legend(title='click',labels=['No','Yes'])\n",
    "\n",
    "# calculate the percentage and annot the bar\n",
    "group_counts=df_ab_test.groupby(['group']).size()\n",
    "group_click_counts=df_ab_test.groupby(['group','click']).size().reset_index(name='count')\n",
    "\n",
    "for p in ax.patches:\n",
    "    height=p.get_height()\n",
    "    # find the group and the click type for the current bar\n",
    "    group ='exp' if p.get_x()<0.5 else 'con'\n",
    "    click=1 if p.get_x()%1 >0.5 else 0\n",
    "    total=group_counts.loc[group]\n",
    "    percentage=100*(height/total)\n",
    "    ax.text(p.get_x()+ p.get_width()/2.,height+5,f'{percentage:.1f}%',ha='center',color='black',fontsize=10)\n",
    "plt.tight_layout()\n",
    "plt.show()"
   ]
  },
  {
   "cell_type": "markdown",
   "id": "170da992-c610-4298-a961-aa198272a048",
   "metadata": {},
   "source": [
    "## Parameter of Model from power analysis"
   ]
  },
  {
   "cell_type": "markdown",
   "id": "58c9425e-3f13-454f-8337-3909586c3523",
   "metadata": {},
   "source": [
    "![](Param_model.png)"
   ]
  },
  {
   "cell_type": "code",
   "execution_count": 8,
   "id": "453cd1c4-d68d-4427-9052-f0da9f57a8dd",
   "metadata": {},
   "outputs": [
    {
     "name": "stdout",
     "output_type": "stream",
     "text": [
      "Alpha: significance level is 0.05\n",
      "Delta: minimum detectable effect is: 0.1\n"
     ]
    }
   ],
   "source": [
    "alpha=0.05  # 5%\n",
    "print('Alpha: significance level is', alpha)\n",
    "\n",
    "delta=0.1   # 10%\n",
    "print('Delta: minimum detectable effect is:',delta)"
   ]
  },
  {
   "cell_type": "markdown",
   "id": "bc5c493f-3e9b-4904-aac4-1f9308b70e0d",
   "metadata": {},
   "source": [
    "## calculating total number of clicks per group by summing clicks"
   ]
  },
  {
   "cell_type": "code",
   "execution_count": 9,
   "id": "f791a0b3-d29e-427a-8e5c-599139b76ef7",
   "metadata": {},
   "outputs": [
    {
     "name": "stdout",
     "output_type": "stream",
     "text": [
      "group\n",
      "con    1989\n",
      "exp    6116\n",
      "Name: click, dtype: int64\n",
      "Number of user in Control: 10000\n",
      "Number of user in Experiment: 10000\n",
      "Number of clicks in control: 1989\n",
      "Number of clicks in Experiment: 6116\n"
     ]
    }
   ],
   "source": [
    "N_con=df_ab_test[df_ab_test['group']=='con'].count().iloc[0]\n",
    "N_exp=df_ab_test[df_ab_test['group']=='exp'].count().iloc[0]\n",
    "\n",
    "# calculating the total number of clicks per group by summing 1's\n",
    "X_con=df_ab_test.groupby('group')['click'].sum().loc['con']\n",
    "X_exp=df_ab_test.groupby('group')['click'].sum().loc['exp']\n",
    "\n",
    "#printing this for visibility\n",
    "print(df_ab_test.groupby('group')['click'].sum())\n",
    "print('Number of user in Control:',N_con)\n",
    "print('Number of user in Experiment:',N_exp)\n",
    "print('Number of clicks in control:',X_con)\n",
    "print('Number of clicks in Experiment:',X_exp)"
   ]
  },
  {
   "cell_type": "markdown",
   "id": "e59b27de-cbe9-4f83-8bed-0f89a2cfbdec",
   "metadata": {},
   "source": [
    "## Calculating Pooled Estimates for Clicks per Group"
   ]
  },
  {
   "cell_type": "code",
   "execution_count": 10,
   "id": "025a8a29-4780-44fe-b8c4-54c0acd1bf27",
   "metadata": {},
   "outputs": [
    {
     "name": "stdout",
     "output_type": "stream",
     "text": [
      "Click Probability in Control Group: 0.1989\n",
      "Click Probability in Experiment Group: 0.6116\n",
      " Pooled Click Probability: 0.40525\n"
     ]
    }
   ],
   "source": [
    "# computing the estimate of click probability per group\n",
    "p_con_hat=X_con/N_con\n",
    "p_exp_hat=X_exp/N_exp\n",
    "print('Click Probability in Control Group:',p_con_hat)\n",
    "print('Click Probability in Experiment Group:',p_exp_hat)\n",
    "\n",
    "# computing the estimate of pooled clicked probability\n",
    "p_pooled_hat=(X_con+X_exp)/(N_con+N_exp)\n",
    "print(' Pooled Click Probability:', p_pooled_hat)"
   ]
  },
  {
   "cell_type": "markdown",
   "id": "b6c08784-117b-46bd-9291-4d52c4b9c926",
   "metadata": {},
   "source": [
    "## Calculting Pooled Variance"
   ]
  },
  {
   "cell_type": "code",
   "execution_count": 11,
   "id": "fe86af92-af6f-46d4-a2a9-d7fd0d69f206",
   "metadata": {},
   "outputs": [
    {
     "name": "stdout",
     "output_type": "stream",
     "text": [
      "p^_pooled is: 0.40525\n",
      "pooled_variance is: 4.82044875e-05\n"
     ]
    }
   ],
   "source": [
    "pooled_variance=p_pooled_hat*(1-p_pooled_hat)*(1/N_con+1/N_exp)\n",
    "print('p^_pooled is:',p_pooled_hat)\n",
    "print('pooled_variance is:',pooled_variance)"
   ]
  },
  {
   "cell_type": "markdown",
   "id": "cf7b25ca-5686-49c3-879b-40daf08b00cb",
   "metadata": {},
   "source": [
    "## Calculating Standard Error and Test Statistics"
   ]
  },
  {
   "cell_type": "code",
   "execution_count": 12,
   "id": "e4961a9c-7004-413c-b977-97dc2586a590",
   "metadata": {},
   "outputs": [
    {
     "name": "stdout",
     "output_type": "stream",
     "text": [
      "Standard Error is: 0.006942945160376826\n",
      "Test Statistics for 2-sample Z-test is: -59.44163326469381\n",
      "Z-critical value from Standard Normal distribution: 1.959963984540054\n"
     ]
    }
   ],
   "source": [
    "# comparing the standard error of the tst\n",
    "SE= np.sqrt(pooled_variance)\n",
    "print('Standard Error is:',SE)\n",
    "\n",
    "# computing the test statistics of the Z-test\n",
    "Test_stat=(p_con_hat-p_exp_hat)/SE\n",
    "print('Test Statistics for 2-sample Z-test is:',Test_stat)\n",
    "\n",
    "# critical value of Z-test\n",
    "Z_crit=norm.ppf(1-alpha/2)   # percent point function\n",
    "print('Z-critical value from Standard Normal distribution:',Z_crit)"
   ]
  },
  {
   "cell_type": "markdown",
   "id": "98168dd1-6ec7-4e93-a33d-3e7ea50ed0eb",
   "metadata": {},
   "source": [
    "## Calculating p_value of the Z_value"
   ]
  },
  {
   "cell_type": "code",
   "execution_count": 13,
   "id": "c1733e6e-cbae-4211-aa98-ab4a7e470836",
   "metadata": {},
   "outputs": [
    {
     "name": "stdout",
     "output_type": "stream",
     "text": [
      "0.0\n"
     ]
    }
   ],
   "source": [
    "# calculate p value\n",
    "p_value=2*norm.sf(abs(Test_stat))\n",
    "print(p_value)\n",
    "#function checking the statistical significance\n",
    "def is_statistical_significance(p_value,alpha):\n",
    "    '''\n",
    "    we assess whether there is statistical significance based on the p_value and alpha.\n",
    "    argument:\n",
    "    - p value(float): the p-value resulting from a statistical test.\n",
    "    - alpha (float,optional): the significance level threshold used to determine statistical significance. defaults to 0.05.\n",
    "\n",
    "    return:\n",
    "    - prints the assessment of the statistical significance.\n",
    "    '''\n",
    "    # print the rounded p-value to 3 decimal places\n",
    "    print(f'p-value of the 2-sample Z-test: {p_value}')\n",
    "\n",
    "    # determine statistical significance\n",
    "    if p_value<=alpha:\n",
    "        print(' There is statistical significance, indicating that the observed differences between the groups are unlikely to have occured by any chance alone.This suggests that the changes in the experimental group have a real effect compared to the control group.')\n",
    "    else:\n",
    "        print('There is no statistical significance, suggesting that the observed differences between the groups could have occured by any chance alone.This implies that the changes in the experimental group do not have a substantial effect compared to the control group.')"
   ]
  },
  {
   "cell_type": "code",
   "execution_count": 14,
   "id": "e449c4b4-70ad-4e41-be31-413ef7a76411",
   "metadata": {},
   "outputs": [
    {
     "name": "stdout",
     "output_type": "stream",
     "text": [
      "p-value of the 2-sample Z-test: 0.0\n",
      " There is statistical significance, indicating that the observed differences between the groups are unlikely to have occured by any chance alone.This suggests that the changes in the experimental group have a real effect compared to the control group.\n"
     ]
    }
   ],
   "source": [
    "is_statistical_significance(p_value,alpha)"
   ]
  },
  {
   "cell_type": "code",
   "execution_count": 21,
   "id": "c440a41a-d5ae-4db1-ac93-20bbbb4c4f63",
   "metadata": {},
   "outputs": [
    {
     "data": {
      "image/png": "[encoded data removed]",
      "text/plain": [
       "<Figure size 640x480 with 1 Axes>"
      ]
     },
     "metadata": {},
     "output_type": "display_data"
    }
   ],
   "source": [
    "# Parameter for the standard normal distribution\n",
    "mu=0   #mean\n",
    "sigma=1   # standard deviation\n",
    "x=np.linspace(mu-3*sigma,mu+3*sigma,100)\n",
    "y=norm.pdf(x,mu,sigma)\n",
    "\n",
    "# Plotting the standard normal distribution\n",
    "plt.plot(x,y,label='Standard Distribution')\n",
    "\n",
    "#shade the rejection region\n",
    "plt.fill_between(x,y, where=(x>Z_crit) | (x<-Z_crit), color='red', alpha=0.5, label='Rejection Region')\n",
    "\n",
    "# Adding Test statistic \n",
    "plt.axvline(Z_crit,color='green',linestyle='dashed',linewidth=2,label=f'Test Statistic={Test_stat:.2f}')\n",
    "\n",
    "# Adding Z critical value\n",
    "plt.axvline(Z_crit,color='blue',linestyle='dashed',linewidth=1,label=f'Z critical={Z_crit:.2f}')\n",
    "plt.axvline(-Z_crit,color='blue',linestyle='dashed',linewidth=1)\n",
    "\n",
    "# Adding labels and title\n",
    "plt.xlabel('Z-value')\n",
    "plt.ylabel('Probability Density')\n",
    "plt.title('Gaussian Distribution with Rejection Region.\\n (A/B Testing for LunarTech CTA button)')\n",
    "plt.legend()\n",
    "\n",
    "# show plot\n",
    "plt.show()"
   ]
  },
  {
   "cell_type": "markdown",
   "id": "03540334-4c23-4f6f-9d2a-c33138347fe0",
   "metadata": {},
   "source": [
    "# Calculating Confidence Interval of the test"
   ]
  },
  {
   "cell_type": "code",
   "execution_count": 16,
   "id": "92a23865-76b0-4ee9-8d68-7c8ed631ae2e",
   "metadata": {},
   "outputs": [
    {
     "name": "stdout",
     "output_type": "stream",
     "text": [
      "Confidence Interval of the 2 sample Z-test is: [0.399, 0.426]\n"
     ]
    }
   ],
   "source": [
    "# calculate the confidence interval (CI) for a 2 sample Z-test.\n",
    "# calculate the lower and upper bounds of the confidence interval\n",
    "CI=[\n",
    "    round((p_exp_hat-p_con_hat)-SE*Z_crit,3), #lower bound of the CI, rounded to 3 decimal places\n",
    "    round((p_exp_hat-p_con_hat)+SE*Z_crit,3)  #upper bound of hte CI, rounded to 3 decimal places\n",
    "]\n",
    "\n",
    "#print the calculated confidence interval\n",
    "print('Confidence Interval of the 2 sample Z-test is:',CI)\n",
    "\n",
    "# here, the confidence interval provides a range of values within which the true difference between the experimental and control group proportion is likely to lie with certain level of confidence (e.g. 95%)"
   ]
  },
  {
   "cell_type": "markdown",
   "id": "b4572c0d-cb65-4e92-9714-73724b0020e7",
   "metadata": {},
   "source": [
    "# Testing for Practical Significance in A/B Testing"
   ]
  },
  {
   "cell_type": "code",
   "execution_count": 19,
   "id": "93712fa7-ce52-466a-925f-e20b5f8e31b9",
   "metadata": {},
   "outputs": [
    {
     "name": "stdout",
     "output_type": "stream",
     "text": [
      "We have practical significance! \n",
      "With MDE of 0.1, The difference between Control and Experimental group is practically significant.\n",
      "Lower bound of 95% confidence interval is:  0.399\n"
     ]
    }
   ],
   "source": [
    "def is_Practically_significant(delta,CI_95):\n",
    "    '''\n",
    "     We assess here if the difference between Control and Experimental group is practically significant using the Minimum Detectable Effect (MDE) parameter from the Power Analysis.\n",
    "\n",
    "    Arguments:\n",
    "    - delta (float): The Minimum Detectable Effect (MDE) considered for practical significance.\n",
    "    - CI_95 (tuple): A tuple representing the lower and upper bounds of the 95% Confidence Interval.\n",
    "\n",
    "    Returns:\n",
    "    - Prints whether the experiment has practical significance based on the MDE and CI.\n",
    "    '''\n",
    "    # Extract lower bound of 95% confidence interval\n",
    "    lower_bound_CI=CI_95[0]\n",
    "    if lower_bound_CI>=delta:\n",
    "        print(f\"We have practical significance! \\nWith MDE of {delta}, The difference between Control and Experimental group is practically significant.\")\n",
    "        return True\n",
    "    else:\n",
    "        print(\"We don't have practical significance! \\nThe difference between Control and Experimental group is not practically significant.\")\n",
    "        return False\n",
    "\n",
    "\n",
    "# Call the function\n",
    "significance = is_Practically_significant(delta, CI)\n",
    "print(\"Lower bound of 95% confidence interval is: \", CI[0])"
   ]
  },
  {
   "cell_type": "code",
   "execution_count": null,
   "id": "e0119ab6-8d4e-4c00-89e8-ba33de6f9b74",
   "metadata": {},
   "outputs": [],
   "source": []
  }
 ],
 "metadata": {
  "kernelspec": {
   "display_name": "Python 3 (ipykernel)",
   "language": "python",
   "name": "python3"
  },
  "language_info": {
   "codemirror_mode": {
    "name": "ipython",
    "version": 3
   },
   "file_extension": ".py",
   "mimetype": "text/x-python",
   "name": "python",
   "nbconvert_exporter": "python",
   "pygments_lexer": "ipython3",
   "version": "3.11.5"
  }
 },
 "nbformat": 4,
 "nbformat_minor": 5
}
